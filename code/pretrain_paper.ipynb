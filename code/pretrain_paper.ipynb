{
 "cells": [
  {
   "cell_type": "code",
   "execution_count": 65,
   "id": "079da8ea",
   "metadata": {},
   "outputs": [],
   "source": [
    "def get_stats(tensor, p=True, r=False, minmax=False):\n",
    "    if not minmax:\n",
    "        mean, std = tensor.mean(), tensor.std()\n",
    "        if p: print(f\"Mean: {mean}, Std: {std}\")\n",
    "        if r: return mean, std\n",
    "        \n",
    "    min, max = tensor.min(), tensor.max()\n",
    "    mean, std = tensor.mean(), tensor.std()\n",
    "    if p: print(f\"Min: {min}, Max: {max} ,Mean: {mean}, Std: {std}\")\n",
    "    if r: return min, max, mean, std"
   ]
  },
  {
   "cell_type": "code",
   "execution_count": 43,
   "id": "c619231b",
   "metadata": {},
   "outputs": [
    {
     "data": {
      "text/plain": [
       "[(0, 'sample_submission.csv'),\n",
       " (1, 'timegate.csv'),\n",
       " (2, 'mettler_toledo.csv'),\n",
       " (3, 'kaiser.csv'),\n",
       " (4, 'anton_532.csv'),\n",
       " (5, 'transfer_plate.csv'),\n",
       " (6, '96_samples.csv'),\n",
       " (7, 'tornado.csv'),\n",
       " (8, 'tec5.csv'),\n",
       " (9, 'metrohm.csv'),\n",
       " (10, 'anton_785.csv')]"
      ]
     },
     "execution_count": 43,
     "metadata": {},
     "output_type": "execute_result"
    }
   ],
   "source": [
    "import os\n",
    "\n",
    "path = \"/kaggle/input/dig-4-bio-raman-transfer-learning-challenge\"\n",
    "files = os.listdir(path)\n",
    "[(i, files[i]) for i in range(len(files))]"
   ]
  },
  {
   "cell_type": "code",
   "execution_count": 46,
   "id": "891cea8d",
   "metadata": {},
   "outputs": [],
   "source": [
    "ds_names = [\n",
    "    \"timegate.csv\",\n",
    "    \"mettler_toledo.csv\",\n",
    "    \"kaiser.csv\",\n",
    "    \"anton_532.csv\",\n",
    "    #\"transfer_plate.csv\",\n",
    "    \"tornado.csv\",\n",
    "    \"tec5.csv\",\n",
    "    \"metrohm.csv\",\n",
    "    \"anton_785.csv\"\n",
    "]"
   ]
  },
  {
   "cell_type": "code",
   "execution_count": null,
   "id": "a02fcb0f",
   "metadata": {},
   "outputs": [],
   "source": [
    "import numpy as np\n",
    "import pandas as pd\n",
    "\n",
    "\n",
    "def get_dataset(name, lower, upper):\n",
    "    path = \"/kaggle/input/dig-4-bio-raman-transfer-learning-challenge\"\n",
    "    df = pd.read_csv(os.path.join(path, name))\n",
    "    \n",
    "    spectra_selection = np.logical_and(\n",
    "        lower <= np.array([float(one) for one in df.columns[:-5]]),\n",
    "        np.array([float(one) for one in df.columns[:-5]]) <= upper,\n",
    "    )\n",
    "    \n",
    "    spectra = df.iloc[:, :-5].iloc[:, spectra_selection].values\n",
    "    label = df.iloc[:, -5:-1].values\n",
    "    \n",
    "    wavenumbers = np.array([\n",
    "        float(one) for one in df.columns[:-5]\n",
    "    ])[spectra_selection]\n",
    "\n",
    "    \n",
    "    return spectra, label, wavenumbers\n",
    "\n",
    "\n",
    "def load_datasets(ds_names, lower, upper):\n",
    "    datasets = [get_dataset(name, lower, upper) for name in ds_names]\n",
    "    wavenumbers = np.arange(lower, upper + 1)\n",
    "\n",
    "    interpolated_data = [\n",
    "        np.array([\n",
    "            np.interp(\n",
    "                wavenumbers,\n",
    "                xp=wns,\n",
    "                fp=spectrum,\n",
    "            )\n",
    "            for spectrum in spectra\n",
    "        ])\n",
    "        for spectra, _, wns in datasets\n",
    "    ]\n",
    "\n",
    "    normed_spectra = np.concatenate(\n",
    "        [\n",
    "            spectra / np.max(spectra)\n",
    "            for spectra in interpolated_data\n",
    "        ],\n",
    "        axis=0,\n",
    "    )\n",
    "\n",
    "    labels = np.concatenate([ds[1] for ds in datasets])\n",
    "    return normed_spectra, labels\n"
   ]
  },
  {
   "cell_type": "code",
   "execution_count": 101,
   "id": "fb345669",
   "metadata": {},
   "outputs": [],
   "source": [
    "ds = load_datasets(ds_names, 300, 1600)"
   ]
  },
  {
   "cell_type": "code",
   "execution_count": 102,
   "id": "ce77e181",
   "metadata": {},
   "outputs": [
    {
     "data": {
      "text/plain": [
       "(2261, 4)"
      ]
     },
     "execution_count": 102,
     "metadata": {},
     "output_type": "execute_result"
    }
   ],
   "source": [
    "ds.shape"
   ]
  },
  {
   "cell_type": "code",
   "execution_count": 66,
   "id": "1dbea87e",
   "metadata": {},
   "outputs": [
    {
     "name": "stdout",
     "output_type": "stream",
     "text": [
      "Min: 0.026162647968249613, Max: 1.0 ,Mean: 0.16025456165443094, Std: 0.10085296226587226\n",
      "Min: 0.023178450816787294, Max: 1.0 ,Mean: 0.1647588356759129, Std: 0.09868560777166825\n",
      "Min: 0.0588133846135364, Max: 1.0 ,Mean: 0.2853361901452322, Std: 0.10792517077797799\n",
      "Min: 0.2691255470244491, Max: 1.0 ,Mean: 0.4161058424891426, Std: 0.11217985811778325\n",
      "Min: 0.03357494499476438, Max: 1.0 ,Mean: 0.1805342634914567, Std: 0.11437222238568806\n",
      "Min: 0.0017089935745804783, Max: 1.0 ,Mean: 0.19025765172710124, Std: 0.08984439939291486\n",
      "Min: 0.06505873030068815, Max: 1.0 ,Mean: 0.15848769574031102, Std: 0.07818925946536216\n",
      "Min: 0.3670528117480713, Max: 1.0 ,Mean: 0.5421399799865979, Std: 0.09276928746792369\n"
     ]
    },
    {
     "data": {
      "text/plain": [
       "[None, None, None, None, None, None, None, None]"
      ]
     },
     "execution_count": 66,
     "metadata": {},
     "output_type": "execute_result"
    }
   ],
   "source": [
    "[get_stats(d, minmax=True) for d in ds]"
   ]
  },
  {
   "cell_type": "code",
   "execution_count": null,
   "id": "d8cce5c9",
   "metadata": {},
   "outputs": [],
   "source": []
  }
 ],
 "metadata": {
  "kernelspec": {
   "display_name": "Python 3 (ipykernel)",
   "language": "python",
   "name": "python3"
  },
  "language_info": {
   "codemirror_mode": {
    "name": "ipython",
    "version": 3
   },
   "file_extension": ".py",
   "mimetype": "text/x-python",
   "name": "python",
   "nbconvert_exporter": "python",
   "pygments_lexer": "ipython3",
   "version": "3.11.13"
  }
 },
 "nbformat": 4,
 "nbformat_minor": 5
}
