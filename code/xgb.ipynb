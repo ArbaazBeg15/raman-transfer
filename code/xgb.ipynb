{
 "cells": [
  {
   "cell_type": "code",
   "execution_count": 1,
   "id": "5ecea469",
   "metadata": {},
   "outputs": [],
   "source": [
    "#!pip3 install -qU xgboost #pandas scipy scikit-learn matplotlib tqdm "
   ]
  },
  {
   "cell_type": "code",
   "execution_count": 1,
   "id": "1468113e",
   "metadata": {},
   "outputs": [],
   "source": [
    "import random\n",
    "import torch\n",
    "import numpy as np\n",
    "\n",
    "\n",
    "SEED = 1000\n",
    "\n",
    "def setup_reproducibility():\n",
    "    random.seed(SEED)\n",
    "    np.random.seed(SEED)\n",
    "    torch.manual_seed(SEED)\n",
    "    if torch.cuda.is_available(): torch.cuda.manual_seed_all(SEED)\n",
    "    torch.backends.cudnn.deterministic = True\n",
    "    torch.backends.cudnn.benchmark = False\n",
    "    torch.use_deterministic_algorithms(False, warn_only=True)\n",
    "    torch.set_float32_matmul_precision(\"high\")\n",
    "\n",
    "setup_reproducibility()"
   ]
  },
  {
   "cell_type": "code",
   "execution_count": 2,
   "id": "1ecaa449",
   "metadata": {},
   "outputs": [],
   "source": [
    "from sklearn.model_selection import train_test_split\n",
    "from huggingface_hub import login, snapshot_download\n",
    "import matplotlib.pyplot as plt\n",
    "\n",
    "\n",
    "def get_stats(tensor, p=True, r=False):\n",
    "    mean, std = tensor.mean(), tensor.std()\n",
    "    min, max =  tensor.min(), tensor.max()\n",
    "    \n",
    "    if p: print(f\"Min: {min}, Max: {max}, Mean: {mean}, Std: {std}\")\n",
    "    if r: return min, max, mean, std\n",
    "    \n",
    "    \n",
    "def zscore(tensor, mean=None, std=None):\n",
    "    if mean is None: mean = tensor.mean()\n",
    "    if std is None: std = tensor.std()\n",
    "    return (tensor - mean) / (std + 1e-6)\n",
    "\n",
    "\n",
    "def get_model_size(model):\n",
    "    print(sum(p.numel() for p in model.parameters()) / 1e6)\n",
    "    \n",
    "\n",
    "def get_index(iterable):\n",
    "    return random.randint(0, len(iterable) - 1)\n",
    "\n",
    "\n",
    "def split(inputs, targets, seed):\n",
    "    return train_test_split(\n",
    "        inputs,\n",
    "        targets, \n",
    "        test_size=0.2,\n",
    "        shuffle=True, \n",
    "        random_state=seed\n",
    "    ) \n",
    "    \n",
    "    \n",
    "def hf_ds_download(hf_token, repo_id):\n",
    "    login(hf_token[1:])\n",
    "    return snapshot_download(repo_id, repo_type=\"dataset\")\n",
    "\n",
    "\n",
    "def show_waves(waves, dpi=100):\n",
    "    \"\"\"\n",
    "    waves: numpy array of shape (3, N)\n",
    "    Creates three separate figures that stretch wide.\n",
    "    \"\"\"\n",
    "\n",
    "    N = waves.shape[1]\n",
    "    t = np.arange(N)\n",
    "\n",
    "    # Wide aspect ratio; height modest so each window fills width\n",
    "    for i in range(waves.shape[0]):\n",
    "        fig = plt.figure(figsize=(14, 4), dpi=dpi)  # wide figure\n",
    "        ax = fig.add_subplot(111)\n",
    "        ax.plot(t, waves[i], linewidth=1)\n",
    "        ax.set_title(f\"Wave {i+1}\")\n",
    "        ax.set_xlabel(\"Sample\")\n",
    "        ax.set_ylabel(\"Amplitude\")\n",
    "        ax.grid(True)\n",
    "        fig.tight_layout()  # reduce margins to use width\n",
    "    plt.show()"
   ]
  },
  {
   "cell_type": "code",
   "execution_count": null,
   "id": "4e157058",
   "metadata": {},
   "outputs": [],
   "source": [
    "import numpy as np\n",
    "from scipy import signal\n",
    "from scipy.signal import find_peaks, peak_widths\n",
    "from scipy.stats import skew, kurtosis\n",
    "from tqdm.auto import tqdm\n",
    "\n",
    "\n",
    "def get_advanced_spectra_features(X, b=False):\n",
    "    \"\"\"Create multi-channel features from spectra: raw, 1st derivative, 2nd derivative.\"\"\"\n",
    "    X_processed = np.zeros_like(X)\n",
    "    \n",
    "    # Baseline correction and SNV\n",
    "    for i in tqdm(range(X.shape[0])):\n",
    "        poly = np.polyfit(np.arange(X.shape[1]), X[i], 3)\n",
    "        baseline = np.polyval(poly, np.arange(X.shape[1]))\n",
    "        corrected_spec = X[i] - baseline\n",
    "        X_processed[i] = (corrected_spec - corrected_spec.mean()) / (corrected_spec.std() + 1e-8)\n",
    "        \n",
    "    # Calculate derivatives\n",
    "    deriv1 = signal.savgol_filter(X_processed, window_length=11, polyorder=3, deriv=1, axis=1)\n",
    "    deriv2 = signal.savgol_filter(X_processed, window_length=11, polyorder=3, deriv=2, axis=1)\n",
    "\n",
    "    if b:\n",
    "        return X_processed\n",
    "    else:\n",
    "        return np.stack([X_processed, deriv1, deriv2], axis=1)\n",
    "    \n",
    "\n",
    "def compute_statistical_features(spectra):\n",
    "    \"\"\"Compute basic statistical features from spectra.\"\"\"\n",
    "    return np.stack([\n",
    "        np.mean(spectra, axis=1), np.std(spectra, axis=1),\n",
    "        skew(spectra, axis=1), kurtosis(spectra, axis=1)\n",
    "    ], axis=1)\n",
    "    \n",
    "    \n",
    "def extract_peak_features(spectra):\n",
    "    \"\"\"Extract features based on spectral peaks.\"\"\"\n",
    "    features = []\n",
    "    for spec in spectra:\n",
    "        peaks, _ = find_peaks(spec, height=np.percentile(spec, 90), prominence=1)\n",
    "        widths, _, _, _ = peak_widths(spec, peaks, rel_height=0.5)\n",
    "        features.append([\n",
    "            len(peaks),\n",
    "            np.sum(spec[peaks]) if len(peaks) > 0 else 0,\n",
    "            np.mean(spec[peaks]) if len(peaks) > 0 else 0,\n",
    "            np.mean(widths) if len(widths) > 0 else 0,\n",
    "        ])\n",
    "    return np.array(features)"
   ]
  },
  {
   "cell_type": "code",
   "execution_count": 3,
   "id": "2b5aab7a-f5ae-450f-b72a-982922fd9342",
   "metadata": {},
   "outputs": [],
   "source": [
    "#HF_TOKEN = \"xhf_XURkoNhwOIPtEdHfNeRpVkjEwKSkhtigFi\"\n",
    "#path = hf_ds_download(HF_TOKEN, repo_id=\"ArbaazBeg/kaggle-spectogram\")"
   ]
  },
  {
   "cell_type": "code",
   "execution_count": 4,
   "id": "b81644e4",
   "metadata": {},
   "outputs": [
    {
     "data": {
      "text/plain": [
       "[(0, '96_samples.csv'),\n",
       " (1, 'anton_532.csv'),\n",
       " (2, 'anton_785.csv'),\n",
       " (3, 'kaiser.csv'),\n",
       " (4, 'metrohm.csv'),\n",
       " (5, 'mettler_toledo.csv'),\n",
       " (6, 'sample_submission.csv'),\n",
       " (7, 'tec5.csv'),\n",
       " (8, 'timegate.csv'),\n",
       " (9, 'tornado.csv'),\n",
       " (10, 'transfer_plate.csv')]"
      ]
     },
     "execution_count": 4,
     "metadata": {},
     "output_type": "execute_result"
    }
   ],
   "source": [
    "import os\n",
    "\n",
    "#path = \"/root/.cache/huggingface/hub/datasets--ArbaazBeg--kaggle-spectogram/snapshots/b61d17629d4886fcc89e5bd9ca022af4da493d73\"\n",
    "path = \"/kaggle/input/dig-4-bio-raman-transfer-learning-challenge\"\n",
    "files = sorted(os.listdir(path))\n",
    "[(i, files[i]) for i in range(len(files))]"
   ]
  },
  {
   "cell_type": "code",
   "execution_count": 23,
   "id": "ca6588a9",
   "metadata": {},
   "outputs": [
    {
     "data": {
      "text/plain": [
       "((96, 2048), (96, 3))"
      ]
     },
     "execution_count": 23,
     "metadata": {},
     "output_type": "execute_result"
    }
   ],
   "source": [
    "import pandas as pd\n",
    "\n",
    "\n",
    "csv_path = os.path.join(path, files[10])\n",
    "df = pd.read_csv(csv_path)\n",
    "\n",
    "input_cols = df.columns[1:2049]\n",
    "target_cols = df.columns[2050:]\n",
    "\n",
    "targets  = df[target_cols].dropna().to_numpy()\n",
    "\n",
    "df = df[input_cols]\n",
    "df['Unnamed: 1'] = df['Unnamed: 1'].str.replace(\"[\\[\\]]\", \"\", regex=True).astype('int64')\n",
    "df['Unnamed: 2048'] = df['Unnamed: 2048'].str.replace(\"[\\[\\]]\", \"\", regex=True).astype('int64')\n",
    "\n",
    "inputs = df.to_numpy().reshape(-1, 2, 2048)\n",
    "inputs = inputs.mean(axis=1)\n",
    "\n",
    "inputs.shape, targets.shape"
   ]
  },
  {
   "cell_type": "code",
   "execution_count": null,
   "id": "63db1372",
   "metadata": {},
   "outputs": [
    {
     "data": {
      "application/vnd.jupyter.widget-view+json": {
       "model_id": "e3863a7a278447788d644dad59e457d4",
       "version_major": 2,
       "version_minor": 0
      },
      "text/plain": [
       "  0%|          | 0/96 [00:00<?, ?it/s]"
      ]
     },
     "metadata": {},
     "output_type": "display_data"
    },
    {
     "data": {
      "text/plain": [
       "(96, 4)"
      ]
     },
     "execution_count": 7,
     "metadata": {},
     "output_type": "execute_result"
    }
   ],
   "source": [
    "i = get_advanced_spectra_features(inputs, True)\n",
    "statistical_features = compute_statistical_features(i)\n",
    "statistical_features.shape"
   ]
  },
  {
   "cell_type": "code",
   "execution_count": 10,
   "id": "da1d744f",
   "metadata": {},
   "outputs": [
    {
     "data": {
      "application/vnd.jupyter.widget-view+json": {
       "model_id": "deab3070b10a493084dd73f830ae5cb6",
       "version_major": 2,
       "version_minor": 0
      },
      "text/plain": [
       "  0%|          | 0/96 [00:00<?, ?it/s]"
      ]
     },
     "metadata": {},
     "output_type": "display_data"
    },
    {
     "data": {
      "text/plain": [
       "(96, 3, 2048)"
      ]
     },
     "execution_count": 10,
     "metadata": {},
     "output_type": "execute_result"
    }
   ],
   "source": [
    "inputs = get_advanced_spectra_features(inputs)\n",
    "inputs.shape"
   ]
  },
  {
   "cell_type": "code",
   "execution_count": 11,
   "id": "ec04c142",
   "metadata": {},
   "outputs": [
    {
     "data": {
      "text/plain": [
       "((96, 6152), (96, 3))"
      ]
     },
     "execution_count": 11,
     "metadata": {},
     "output_type": "execute_result"
    }
   ],
   "source": [
    "inputs = inputs.reshape(-1, 3 * 2048).astype(np.float32)\n",
    "inputs = np.hstack([inputs, peak_features, statistical_features])\n",
    "targets = targets.astype(np.float32)\n",
    "inputs.shape, targets.shape"
   ]
  },
  {
   "cell_type": "code",
   "execution_count": 12,
   "id": "a80358db",
   "metadata": {},
   "outputs": [],
   "source": [
    "train_inputs, eval_inputs, train_targets, eval_targets = split(inputs, targets, SEED)"
   ]
  },
  {
   "cell_type": "code",
   "execution_count": 13,
   "id": "e0e99d84",
   "metadata": {},
   "outputs": [
    {
     "name": "stdout",
     "output_type": "stream",
     "text": [
      "Min: -5.800850868225098, Max: 243.3925281028047, Mean: 0.03586188864101771, Std: 2.231636925819348\n"
     ]
    }
   ],
   "source": [
    "_, _, mean, std = get_stats(train_inputs, p=True, r=True)\n",
    "train_inputs = zscore(train_inputs, mean, std)\n",
    "eval_inputs = zscore(eval_inputs, mean, std)"
   ]
  },
  {
   "cell_type": "code",
   "execution_count": 14,
   "id": "e68f2fe9",
   "metadata": {},
   "outputs": [
    {
     "name": "stdout",
     "output_type": "stream",
     "text": [
      "Min: -2.6154389515150225, Max: 109.04845423112938, Mean: -1.261358032220765e-18, Std: 0.9999995518986353\n",
      "Min: -1.9500487490491285, Max: 87.04192702291617, Mean: 0.00021977133176571292, Std: 1.0071908805508913\n"
     ]
    }
   ],
   "source": [
    "get_stats(train_inputs, True)\n",
    "get_stats(eval_inputs, True)"
   ]
  },
  {
   "cell_type": "code",
   "execution_count": 18,
   "id": "be1d2911",
   "metadata": {},
   "outputs": [],
   "source": [
    "score = -float(\"inf\")\n",
    "best_params = {}"
   ]
  },
  {
   "cell_type": "code",
   "execution_count": 16,
   "id": "d95c6425",
   "metadata": {},
   "outputs": [
    {
     "name": "stderr",
     "output_type": "stream",
     "text": [
      "/usr/local/lib/python3.11/dist-packages/xgboost/core.py:160: UserWarning: [05:01:18] WARNING: /workspace/src/common/error_msg.cc:58: Falling back to prediction using DMatrix due to mismatched devices. This might lead to higher memory usage and slower performance. XGBoost is running on: cuda:0, while the input data is on: cpu.\n",
      "Potential solutions:\n",
      "- Use a data structure that matches the device ordinal in the booster.\n",
      "- Set the device for booster before call to inplace_predict.\n",
      "\n",
      "This warning will only be shown once.\n",
      "\n",
      "  warnings.warn(smsg, UserWarning)\n"
     ]
    },
    {
     "ename": "NameError",
     "evalue": "name 'best_params' is not defined",
     "output_type": "error",
     "traceback": [
      "\u001b[0;31m---------------------------------------------------------------------------\u001b[0m",
      "\u001b[0;31mNameError\u001b[0m                                 Traceback (most recent call last)",
      "\u001b[0;32m/tmp/ipykernel_525/1835547364.py\u001b[0m in \u001b[0;36m<cell line: 0>\u001b[0;34m()\u001b[0m\n\u001b[1;32m     36\u001b[0m \u001b[0;34m\u001b[0m\u001b[0m\n\u001b[1;32m     37\u001b[0m \u001b[0;32mif\u001b[0m \u001b[0mr2\u001b[0m \u001b[0;34m>\u001b[0m \u001b[0mscore\u001b[0m\u001b[0;34m:\u001b[0m\u001b[0;34m\u001b[0m\u001b[0;34m\u001b[0m\u001b[0m\n\u001b[0;32m---> 38\u001b[0;31m     \u001b[0mbest_params\u001b[0m\u001b[0;34m[\u001b[0m\u001b[0;34m\"n_estimators\"\u001b[0m\u001b[0;34m]\u001b[0m \u001b[0;34m=\u001b[0m \u001b[0mhparams\u001b[0m\u001b[0;34m.\u001b[0m\u001b[0mn_estimators\u001b[0m\u001b[0;34m\u001b[0m\u001b[0;34m\u001b[0m\u001b[0m\n\u001b[0m\u001b[1;32m     39\u001b[0m     \u001b[0mbest_params\u001b[0m\u001b[0;34m[\u001b[0m\u001b[0;34m\"learning_rate\"\u001b[0m\u001b[0;34m]\u001b[0m \u001b[0;34m=\u001b[0m \u001b[0mhparams\u001b[0m\u001b[0;34m.\u001b[0m\u001b[0mlearning_rate\u001b[0m\u001b[0;34m\u001b[0m\u001b[0;34m\u001b[0m\u001b[0m\n\u001b[1;32m     40\u001b[0m     \u001b[0mbest_params\u001b[0m\u001b[0;34m[\u001b[0m\u001b[0;34m\"max_depth\"\u001b[0m\u001b[0;34m]\u001b[0m \u001b[0;34m=\u001b[0m \u001b[0mhparams\u001b[0m\u001b[0;34m.\u001b[0m\u001b[0mmax_depth\u001b[0m\u001b[0;34m\u001b[0m\u001b[0;34m\u001b[0m\u001b[0m\n",
      "\u001b[0;31mNameError\u001b[0m: name 'best_params' is not defined"
     ]
    }
   ],
   "source": [
    "from xgboost import XGBRegressor\n",
    "from sklearn.model_selection import KFold\n",
    "from sklearn.metrics import r2_score\n",
    "\n",
    "\n",
    "class hparams:\n",
    "    n_estimators = 4000\n",
    "    learning_rate = 0.001\n",
    "    max_depth = 10\n",
    "    #reg_lambda = 0.0001\n",
    "    \n",
    "    \n",
    "model = XGBRegressor(\n",
    "    n_estimators=hparams.n_estimators,\n",
    "    learning_rate=hparams.learning_rate,\n",
    "    max_depth=hparams.max_depth,\n",
    "    subsample=0.8,\n",
    "    colsample_bytree=0.8,\n",
    "    random_state=SEED,\n",
    "    n_jobs=-1,\n",
    "    #reg_lambda=hparams.reg_lambda,\n",
    "    eval_metric=\"rmse\",  \n",
    "    #early_stopping_rounds=5,        \n",
    "    tree_method=\"hist\", \n",
    "    device=\"cuda\",\n",
    ")\n",
    "\n",
    "model.fit(\n",
    "    train_inputs, train_targets,\n",
    "    eval_set=[(eval_inputs, eval_targets)],\n",
    "    verbose=False,\n",
    ")\n",
    "\n",
    "preds = model.predict(eval_inputs)\n",
    "r2 = r2_score(eval_targets, preds)\n",
    "\n",
    "if r2 > score:    \n",
    "    best_params[\"n_estimators\"] = hparams.n_estimators\n",
    "    best_params[\"learning_rate\"] = hparams.learning_rate\n",
    "    best_params[\"max_depth\"] = hparams.max_depth\n",
    "    #best_params[\"reg_lambda\"] = hparams.reg_lambda\n",
    "    print(best_params)\n",
    "    print(\"previous\", score)\n",
    "    score = r2\n",
    "    print(\"best\", score) \n",
    "else:\n",
    "    print(\"Failed\", r2, \"best\", score)"
   ]
  },
  {
   "cell_type": "code",
   "execution_count": 17,
   "id": "6370e98c",
   "metadata": {},
   "outputs": [
    {
     "data": {
      "text/plain": [
       "0.9163453382992218"
      ]
     },
     "execution_count": 17,
     "metadata": {},
     "output_type": "execute_result"
    }
   ],
   "source": [
    "r2"
   ]
  },
  {
   "cell_type": "code",
   "execution_count": null,
   "id": "7b40a3ad",
   "metadata": {},
   "outputs": [],
   "source": [
    "print(\"Failed\", r2, \"best\", score) "
   ]
  },
  {
   "cell_type": "code",
   "execution_count": null,
   "id": "ee176f0b",
   "metadata": {},
   "outputs": [],
   "source": [
    "{'n_estimators': 4000,\n",
    " 'learning_rate': 0.001,\n",
    " 'max_depth': 10,\n",
    " 'reg_lambda': 0.0001}\n",
    "\n",
    "0.919169955244037"
   ]
  },
  {
   "cell_type": "code",
   "execution_count": null,
   "id": "28d7bb2e",
   "metadata": {},
   "outputs": [],
   "source": [
    "from xgboost import XGBRegressor\n",
    "from sklearn.model_selection import KFold\n",
    "from sklearn.metrics import r2_score\n",
    "from tqdm.auto import tqdm\n",
    "\n",
    "\n",
    "seeds = [SEED]#np.random.randint(0, 10**6, size=10).tolist()\n",
    "models = {\"1\": [], \"2\": [], \"3\": []}\n",
    "\n",
    "for seed in tqdm(seeds):\n",
    "    print(f\"Seed {seed}\")\n",
    "    kf = KFold(n_splits=5, shuffle=True, random_state=seed)\n",
    "    scores_mean = []\n",
    "    \n",
    "    for i in range(3):\n",
    "        splits = kf.split(inputs, targets)\n",
    "        scores = []\n",
    "        \n",
    "        for j, (train_idx, eval_idx) in enumerate(splits):\n",
    "            train_inputs, train_targets = inputs[train_idx], targets[train_idx, i]\n",
    "            eval_inputs, eval_targets = inputs[eval_idx], targets[eval_idx, i]\n",
    "            \n",
    "            _, _, mean, std = get_stats(train_inputs, p=False, r=True)\n",
    "            train_inputs = zscore(train_inputs, mean, std)\n",
    "            eval_inputs = zscore(eval_inputs, mean, std)\n",
    "            \n",
    "            model = XGBRegressor(\n",
    "                n_estimators=200,\n",
    "                learning_rate=0.05,\n",
    "                max_depth=3,\n",
    "                subsample=0.8,\n",
    "                colsample_bytree=0.8,\n",
    "                random_state=seed,\n",
    "                n_jobs=-1,\n",
    "                #reg_lambda=1.0,\n",
    "                eval_metric=\"rmse\",  \n",
    "                #early_stopping_rounds=5,        \n",
    "                tree_method=\"hist\", \n",
    "                device=\"cuda\",\n",
    "            )\n",
    "            \n",
    "            model.fit(\n",
    "                train_inputs, train_targets,\n",
    "                eval_set=[(eval_inputs, eval_targets)],\n",
    "                verbose=False,\n",
    "            )\n",
    "            \n",
    "            preds = model.predict(eval_inputs)\n",
    "            score = r2_score(eval_targets, preds)\n",
    "            scores.append(score)\n",
    "            models[str(i+1)].append((score, model, mean, std))\n",
    "        \n",
    "        scores = np.mean(scores)\n",
    "        scores_mean.append(scores)\n",
    "        print(f\"Mean R2 (target {i}): {scores:.4f}\")\n",
    "    \n",
    "    scores_mean = np.mean(scores_mean)\n",
    "    print(f\"Final: {scores_mean:.4f}\\n\")"
   ]
  },
  {
   "cell_type": "code",
   "execution_count": null,
   "id": "d20fe9e9",
   "metadata": {},
   "outputs": [],
   "source": [
    "def get_best_models(models):\n",
    "    best_models = []\n",
    "    \n",
    "    for i in range(1, 4):\n",
    "        score = float('-inf')\n",
    "        for s, model, mean, std in models[str(i)]:\n",
    "            if s > score:\n",
    "                score = s\n",
    "                best = model\n",
    "                mu = mean\n",
    "                sigma = std\n",
    "        best_models.append((best, score, mu, sigma))\n",
    "            \n",
    "    return best_models\n",
    "\n",
    "best_models = get_best_models(models)"
   ]
  },
  {
   "cell_type": "code",
   "execution_count": null,
   "id": "16e78700",
   "metadata": {},
   "outputs": [],
   "source": [
    "scores = {\"1\": [], \"2\": [], \"3\": []}\n",
    "for i in range(1, 4):\n",
    "    for s, m, mean, std in models[str(i)]:\n",
    "        scores[str(i)].append(s)    \n",
    "    scores[str(i)] = np.mean(scores[str(i)])\n",
    "    \n",
    "scores, np.mean([scores[\"1\"], scores[\"2\"], scores[\"3\"]])"
   ]
  },
  {
   "cell_type": "code",
   "execution_count": null,
   "id": "60ddca50",
   "metadata": {},
   "outputs": [],
   "source": [
    "scores = []\n",
    "for m, s, mu, sigma in best_models:\n",
    "    scores.append(s)\n",
    "scores, np.mean(scores)"
   ]
  },
  {
   "cell_type": "code",
   "execution_count": 19,
   "id": "9f83b584",
   "metadata": {},
   "outputs": [
    {
     "name": "stdout",
     "output_type": "stream",
     "text": [
      "Min: 983.5, Max: 65535.0, Mean: 3623.216623942057, Std: 6772.114021862655\n"
     ]
    },
    {
     "data": {
      "application/vnd.jupyter.widget-view+json": {
       "model_id": "46f12c0df48149dd932f118f47546f72",
       "version_major": 2,
       "version_minor": 0
      },
      "text/plain": [
       "  0%|          | 0/96 [00:00<?, ?it/s]"
      ]
     },
     "metadata": {},
     "output_type": "display_data"
    },
    {
     "data": {
      "application/vnd.jupyter.widget-view+json": {
       "model_id": "1a693c0e75474f4da5afa2c13a3096e4",
       "version_major": 2,
       "version_minor": 0
      },
      "text/plain": [
       "  0%|          | 0/96 [00:00<?, ?it/s]"
      ]
     },
     "metadata": {},
     "output_type": "display_data"
    },
    {
     "name": "stdout",
     "output_type": "stream",
     "text": [
      "Min: -1.9732901959496465, Max: 87.351733101176, Mean: 0.005301608113692912, Std: 1.0965628607387299\n"
     ]
    },
    {
     "data": {
      "text/plain": [
       "((96, 6152), dtype('float64'), None)"
      ]
     },
     "execution_count": 19,
     "metadata": {},
     "output_type": "execute_result"
    }
   ],
   "source": [
    "csv_path = os.path.join(path, files[0])\n",
    "test_df = pd.read_csv(csv_path)\n",
    "\n",
    "\n",
    "row1 = test_df.columns[1:].to_numpy().copy()\n",
    "row1[-1] = \"5611\"\n",
    "row1 = row1.astype(np.float64)\n",
    "\n",
    "\n",
    "cols = test_df.columns[1:]\n",
    "test_df = test_df[cols]\n",
    "test_df[\" 5611]\"] = test_df[\" 5611]\"].str.replace('[\\[\\]]', '', regex=True).astype('int64')\n",
    "test = test_df.to_numpy()\n",
    "\n",
    "test = np.insert(test, 0, row1, axis=0)\n",
    "test = test.reshape(-1, 2, 2048).mean(axis=1)\n",
    "\n",
    "get_stats(test)\n",
    "t = get_advanced_spectra_features(test, True)\n",
    "test_statistical_features = compute_statistical_features(t)\n",
    "test_peak_features = extract_peak_features(t)\n",
    "test = get_advanced_spectra_features(test)\n",
    "test = test.reshape(-1, 3 * 2048)\n",
    "test = np.hstack([test, test_peak_features, test_peak_features])\n",
    "test = zscore(test, mean, std)\n",
    "test.shape, test.dtype, get_stats(test)"
   ]
  },
  {
   "cell_type": "code",
   "execution_count": 20,
   "id": "f1a2ad78-1191-4c44-b5a2-b9e8ab913694",
   "metadata": {},
   "outputs": [
    {
     "data": {
      "text/plain": [
       "(96, 3)"
      ]
     },
     "execution_count": 20,
     "metadata": {},
     "output_type": "execute_result"
    }
   ],
   "source": [
    "preds = model.predict(test)\n",
    "preds.shape"
   ]
  },
  {
   "cell_type": "code",
   "execution_count": null,
   "id": "7ad514f1",
   "metadata": {},
   "outputs": [],
   "source": [
    "preds = []\n",
    "\n",
    "for i in range(3):\n",
    "    local_preds = []\n",
    "    for _, model, mean, std in models[str(i + 1)]:\n",
    "        t = zscore(test.copy(), mean, std)\n",
    "        p = model.predict(test)\n",
    "        local_preds.append(p)\n",
    "    \n",
    "    local_preds = np.stack(local_preds).mean(axis=0)\n",
    "    preds.append(local_preds)\n",
    "    \n",
    "preds = np.column_stack(preds)\n",
    "preds.shape"
   ]
  },
  {
   "cell_type": "code",
   "execution_count": null,
   "id": "6c3ef61a",
   "metadata": {},
   "outputs": [],
   "source": [
    "preds = []\n",
    "\n",
    "for model, s, mean, std in best_models:\n",
    "    print(mean, std)\n",
    "    t = zscore(test.copy(), mean, std)\n",
    "    p = model.predict(t)\n",
    "    preds.append(p)\n",
    "    \n",
    "preds = np.column_stack(preds)\n",
    "preds.shape"
   ]
  },
  {
   "cell_type": "code",
   "execution_count": 21,
   "id": "32f8c869",
   "metadata": {},
   "outputs": [
    {
     "data": {
      "text/html": [
       "<div>\n",
       "<style scoped>\n",
       "    .dataframe tbody tr th:only-of-type {\n",
       "        vertical-align: middle;\n",
       "    }\n",
       "\n",
       "    .dataframe tbody tr th {\n",
       "        vertical-align: top;\n",
       "    }\n",
       "\n",
       "    .dataframe thead th {\n",
       "        text-align: right;\n",
       "    }\n",
       "</style>\n",
       "<table border=\"1\" class=\"dataframe\">\n",
       "  <thead>\n",
       "    <tr style=\"text-align: right;\">\n",
       "      <th></th>\n",
       "      <th>ID</th>\n",
       "      <th>Glucose</th>\n",
       "      <th>Sodium Acetate</th>\n",
       "      <th>Magnesium Sulfate</th>\n",
       "    </tr>\n",
       "  </thead>\n",
       "  <tbody>\n",
       "    <tr>\n",
       "      <th>0</th>\n",
       "      <td>1</td>\n",
       "      <td>3.180426</td>\n",
       "      <td>0.841516</td>\n",
       "      <td>0.599093</td>\n",
       "    </tr>\n",
       "    <tr>\n",
       "      <th>1</th>\n",
       "      <td>2</td>\n",
       "      <td>6.543715</td>\n",
       "      <td>1.960217</td>\n",
       "      <td>1.715010</td>\n",
       "    </tr>\n",
       "    <tr>\n",
       "      <th>2</th>\n",
       "      <td>3</td>\n",
       "      <td>5.501711</td>\n",
       "      <td>0.486627</td>\n",
       "      <td>1.090748</td>\n",
       "    </tr>\n",
       "    <tr>\n",
       "      <th>3</th>\n",
       "      <td>4</td>\n",
       "      <td>3.456721</td>\n",
       "      <td>0.948714</td>\n",
       "      <td>0.590265</td>\n",
       "    </tr>\n",
       "    <tr>\n",
       "      <th>4</th>\n",
       "      <td>5</td>\n",
       "      <td>9.866538</td>\n",
       "      <td>0.977800</td>\n",
       "      <td>1.190017</td>\n",
       "    </tr>\n",
       "    <tr>\n",
       "      <th>...</th>\n",
       "      <td>...</td>\n",
       "      <td>...</td>\n",
       "      <td>...</td>\n",
       "      <td>...</td>\n",
       "    </tr>\n",
       "    <tr>\n",
       "      <th>91</th>\n",
       "      <td>92</td>\n",
       "      <td>5.677711</td>\n",
       "      <td>0.646986</td>\n",
       "      <td>1.292048</td>\n",
       "    </tr>\n",
       "    <tr>\n",
       "      <th>92</th>\n",
       "      <td>93</td>\n",
       "      <td>4.867382</td>\n",
       "      <td>0.491818</td>\n",
       "      <td>0.914359</td>\n",
       "    </tr>\n",
       "    <tr>\n",
       "      <th>93</th>\n",
       "      <td>94</td>\n",
       "      <td>4.728037</td>\n",
       "      <td>0.498267</td>\n",
       "      <td>0.867846</td>\n",
       "    </tr>\n",
       "    <tr>\n",
       "      <th>94</th>\n",
       "      <td>95</td>\n",
       "      <td>3.156774</td>\n",
       "      <td>1.472639</td>\n",
       "      <td>0.944631</td>\n",
       "    </tr>\n",
       "    <tr>\n",
       "      <th>95</th>\n",
       "      <td>96</td>\n",
       "      <td>4.738885</td>\n",
       "      <td>1.912606</td>\n",
       "      <td>0.968663</td>\n",
       "    </tr>\n",
       "  </tbody>\n",
       "</table>\n",
       "<p>96 rows × 4 columns</p>\n",
       "</div>"
      ],
      "text/plain": [
       "    ID   Glucose  Sodium Acetate  Magnesium Sulfate\n",
       "0    1  3.180426        0.841516           0.599093\n",
       "1    2  6.543715        1.960217           1.715010\n",
       "2    3  5.501711        0.486627           1.090748\n",
       "3    4  3.456721        0.948714           0.590265\n",
       "4    5  9.866538        0.977800           1.190017\n",
       "..  ..       ...             ...                ...\n",
       "91  92  5.677711        0.646986           1.292048\n",
       "92  93  4.867382        0.491818           0.914359\n",
       "93  94  4.728037        0.498267           0.867846\n",
       "94  95  3.156774        1.472639           0.944631\n",
       "95  96  4.738885        1.912606           0.968663\n",
       "\n",
       "[96 rows x 4 columns]"
      ]
     },
     "execution_count": 21,
     "metadata": {},
     "output_type": "execute_result"
    }
   ],
   "source": [
    "column_names = ['Glucose', 'Sodium Acetate', 'Magnesium Sulfate']\n",
    "preds_df = pd.DataFrame(preds, columns=column_names)\n",
    "preds_df.insert(0, 'ID', [i+1 for i in range(len(preds_df))])\n",
    "preds_df"
   ]
  },
  {
   "cell_type": "code",
   "execution_count": 22,
   "id": "401b302e",
   "metadata": {},
   "outputs": [
    {
     "data": {
      "text/html": [
       "<div>\n",
       "<style scoped>\n",
       "    .dataframe tbody tr th:only-of-type {\n",
       "        vertical-align: middle;\n",
       "    }\n",
       "\n",
       "    .dataframe tbody tr th {\n",
       "        vertical-align: top;\n",
       "    }\n",
       "\n",
       "    .dataframe thead th {\n",
       "        text-align: right;\n",
       "    }\n",
       "</style>\n",
       "<table border=\"1\" class=\"dataframe\">\n",
       "  <thead>\n",
       "    <tr style=\"text-align: right;\">\n",
       "      <th></th>\n",
       "      <th>ID</th>\n",
       "      <th>Glucose</th>\n",
       "      <th>Sodium Acetate</th>\n",
       "      <th>Magnesium Sulfate</th>\n",
       "    </tr>\n",
       "  </thead>\n",
       "  <tbody>\n",
       "    <tr>\n",
       "      <th>0</th>\n",
       "      <td>1</td>\n",
       "      <td>3.180426</td>\n",
       "      <td>0.841516</td>\n",
       "      <td>0.599093</td>\n",
       "    </tr>\n",
       "    <tr>\n",
       "      <th>1</th>\n",
       "      <td>2</td>\n",
       "      <td>6.543715</td>\n",
       "      <td>1.960217</td>\n",
       "      <td>1.715010</td>\n",
       "    </tr>\n",
       "    <tr>\n",
       "      <th>2</th>\n",
       "      <td>3</td>\n",
       "      <td>5.501711</td>\n",
       "      <td>0.486627</td>\n",
       "      <td>1.090748</td>\n",
       "    </tr>\n",
       "    <tr>\n",
       "      <th>3</th>\n",
       "      <td>4</td>\n",
       "      <td>3.456721</td>\n",
       "      <td>0.948714</td>\n",
       "      <td>0.590265</td>\n",
       "    </tr>\n",
       "    <tr>\n",
       "      <th>4</th>\n",
       "      <td>5</td>\n",
       "      <td>9.866538</td>\n",
       "      <td>0.977800</td>\n",
       "      <td>1.190017</td>\n",
       "    </tr>\n",
       "    <tr>\n",
       "      <th>...</th>\n",
       "      <td>...</td>\n",
       "      <td>...</td>\n",
       "      <td>...</td>\n",
       "      <td>...</td>\n",
       "    </tr>\n",
       "    <tr>\n",
       "      <th>91</th>\n",
       "      <td>92</td>\n",
       "      <td>5.677711</td>\n",
       "      <td>0.646986</td>\n",
       "      <td>1.292048</td>\n",
       "    </tr>\n",
       "    <tr>\n",
       "      <th>92</th>\n",
       "      <td>93</td>\n",
       "      <td>4.867382</td>\n",
       "      <td>0.491818</td>\n",
       "      <td>0.914359</td>\n",
       "    </tr>\n",
       "    <tr>\n",
       "      <th>93</th>\n",
       "      <td>94</td>\n",
       "      <td>4.728037</td>\n",
       "      <td>0.498267</td>\n",
       "      <td>0.867846</td>\n",
       "    </tr>\n",
       "    <tr>\n",
       "      <th>94</th>\n",
       "      <td>95</td>\n",
       "      <td>3.156774</td>\n",
       "      <td>1.472639</td>\n",
       "      <td>0.944631</td>\n",
       "    </tr>\n",
       "    <tr>\n",
       "      <th>95</th>\n",
       "      <td>96</td>\n",
       "      <td>4.738885</td>\n",
       "      <td>1.912606</td>\n",
       "      <td>0.968663</td>\n",
       "    </tr>\n",
       "  </tbody>\n",
       "</table>\n",
       "<p>96 rows × 4 columns</p>\n",
       "</div>"
      ],
      "text/plain": [
       "    ID   Glucose  Sodium Acetate  Magnesium Sulfate\n",
       "0    1  3.180426        0.841516           0.599093\n",
       "1    2  6.543715        1.960217           1.715010\n",
       "2    3  5.501711        0.486627           1.090748\n",
       "3    4  3.456721        0.948714           0.590265\n",
       "4    5  9.866538        0.977800           1.190017\n",
       "..  ..       ...             ...                ...\n",
       "91  92  5.677711        0.646986           1.292048\n",
       "92  93  4.867382        0.491818           0.914359\n",
       "93  94  4.728037        0.498267           0.867846\n",
       "94  95  3.156774        1.472639           0.944631\n",
       "95  96  4.738885        1.912606           0.968663\n",
       "\n",
       "[96 rows x 4 columns]"
      ]
     },
     "execution_count": 22,
     "metadata": {},
     "output_type": "execute_result"
    }
   ],
   "source": [
    "name = \"xgboost.9163.peak.features.stat.features.csv\"\n",
    "preds_df.to_csv(name, index=False)\n",
    "f = pd.read_csv(f\"{name}\")\n",
    "f"
   ]
  },
  {
   "cell_type": "code",
   "execution_count": null,
   "id": "dfd1db15",
   "metadata": {},
   "outputs": [],
   "source": []
  }
 ],
 "metadata": {
  "kernelspec": {
   "display_name": "Python 3 (ipykernel)",
   "language": "python",
   "name": "python3"
  },
  "language_info": {
   "codemirror_mode": {
    "name": "ipython",
    "version": 3
   },
   "file_extension": ".py",
   "mimetype": "text/x-python",
   "name": "python",
   "nbconvert_exporter": "python",
   "pygments_lexer": "ipython3",
   "version": "3.11.13"
  }
 },
 "nbformat": 4,
 "nbformat_minor": 5
}
