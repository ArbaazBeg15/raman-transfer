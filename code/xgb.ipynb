{
 "cells": [
  {
   "cell_type": "code",
   "execution_count": 1,
   "id": "5ecea469",
   "metadata": {},
   "outputs": [],
   "source": [
    "#!pip3 install -qU xgboost optuna pandas scipy scikit-learn matplotlib tqdm "
   ]
  },
  {
   "cell_type": "code",
   "execution_count": 2,
   "id": "1468113e",
   "metadata": {},
   "outputs": [],
   "source": [
    "import random\n",
    "import torch\n",
    "import numpy as np\n",
    "\n",
    "\n",
    "SEED = 1000\n",
    "\n",
    "def setup_reproducibility():\n",
    "    random.seed(SEED)\n",
    "    np.random.seed(SEED)\n",
    "    torch.manual_seed(SEED)\n",
    "    if torch.cuda.is_available(): torch.cuda.manual_seed_all(SEED)\n",
    "    torch.backends.cudnn.deterministic = True\n",
    "    torch.backends.cudnn.benchmark = False\n",
    "    torch.use_deterministic_algorithms(False, warn_only=True)\n",
    "    torch.set_float32_matmul_precision(\"high\")\n",
    "\n",
    "setup_reproducibility()"
   ]
  },
  {
   "cell_type": "code",
   "execution_count": 3,
   "id": "1ecaa449",
   "metadata": {},
   "outputs": [],
   "source": [
    "from sklearn.model_selection import train_test_split\n",
    "\n",
    "\n",
    "def get_stats(tensor, p=True, r=False):\n",
    "    mean, std = tensor.mean(), tensor.std()\n",
    "    min, max =  tensor.min(), tensor.max()\n",
    "    \n",
    "    if p: print(f\"Min: {min}, Max: {max}, Mean: {mean}, Std: {std}\")\n",
    "    if r: return min, max, mean, std\n",
    "    \n",
    "    \n",
    "def zscore(tensor, mean=None, std=None):\n",
    "    if mean is None: mean = tensor.mean()\n",
    "    if std is None: std = tensor.std()\n",
    "    return (tensor - mean) / (std + 1e-6)\n",
    "\n",
    "\n",
    "def get_model_size(model):\n",
    "    print(sum(p.numel() for p in model.parameters()) / 1e6)\n",
    "    \n",
    "\n",
    "def get_index(iterable):\n",
    "    return random.randint(0, len(iterable) - 1)\n",
    "\n",
    "\n",
    "def split(inputs, targets, seed):\n",
    "    return train_test_split(\n",
    "        inputs,\n",
    "        targets, \n",
    "        test_size=0.2,\n",
    "        shuffle=True, \n",
    "        random_state=seed\n",
    "    ) "
   ]
  },
  {
   "cell_type": "code",
   "execution_count": 4,
   "id": "fb2962fc",
   "metadata": {},
   "outputs": [],
   "source": [
    "import matplotlib.pyplot as plt\n",
    "\n",
    "\n",
    "def show_waves(waves, dpi=100):\n",
    "    \"\"\"\n",
    "    waves: numpy array of shape (3, N)\n",
    "    Creates three separate figures that stretch wide.\n",
    "    \"\"\"\n",
    "\n",
    "    N = waves.shape[1]\n",
    "    t = np.arange(N)\n",
    "\n",
    "    # Wide aspect ratio; height modest so each window fills width\n",
    "    for i in range(waves.shape[0]):\n",
    "        fig = plt.figure(figsize=(14, 4), dpi=dpi)  # wide figure\n",
    "        ax = fig.add_subplot(111)\n",
    "        ax.plot(t, waves[i], linewidth=1)\n",
    "        ax.set_title(f\"Wave {i+1}\")\n",
    "        ax.set_xlabel(\"Sample\")\n",
    "        ax.set_ylabel(\"Amplitude\")\n",
    "        ax.grid(True)\n",
    "        fig.tight_layout()  # reduce margins to use width\n",
    "    plt.show()"
   ]
  },
  {
   "cell_type": "code",
   "execution_count": 5,
   "id": "2b5aab7a-f5ae-450f-b72a-982922fd9342",
   "metadata": {},
   "outputs": [
    {
     "data": {
      "application/vnd.jupyter.widget-view+json": {
       "model_id": "de339e2ba09e4ef1b1458bbc08b01825",
       "version_major": 2,
       "version_minor": 0
      },
      "text/plain": [
       "Fetching 12 files:   0%|          | 0/12 [00:00<?, ?it/s]"
      ]
     },
     "metadata": {},
     "output_type": "display_data"
    },
    {
     "data": {
      "application/vnd.jupyter.widget-view+json": {
       "model_id": "4ca7a2cef4db48c6bbba33717c0ab8dd",
       "version_major": 2,
       "version_minor": 0
      },
      "text/plain": [
       "sample_submission.csv:   0%|          | 0.00/611 [00:00<?, ?B/s]"
      ]
     },
     "metadata": {},
     "output_type": "display_data"
    },
    {
     "data": {
      "application/vnd.jupyter.widget-view+json": {
       "model_id": "f20ba6157a034f21bbde06905b988d9a",
       "version_major": 2,
       "version_minor": 0
      },
      "text/plain": [
       "96_samples.csv:   0%|          | 0.00/1.99M [00:00<?, ?B/s]"
      ]
     },
     "metadata": {},
     "output_type": "display_data"
    },
    {
     "data": {
      "application/vnd.jupyter.widget-view+json": {
       "model_id": "42cc601bb6374d5caedd0cd0cb2548e3",
       "version_major": 2,
       "version_minor": 0
      },
      "text/plain": [
       "anton_785.csv:   0%|          | 0.00/2.13M [00:00<?, ?B/s]"
      ]
     },
     "metadata": {},
     "output_type": "display_data"
    },
    {
     "data": {
      "application/vnd.jupyter.widget-view+json": {
       "model_id": "246d9ef2315342269468a07d90d9297b",
       "version_major": 2,
       "version_minor": 0
      },
      "text/plain": [
       "metrohm.csv:   0%|          | 0.00/5.39M [00:00<?, ?B/s]"
      ]
     },
     "metadata": {},
     "output_type": "display_data"
    },
    {
     "data": {
      "application/vnd.jupyter.widget-view+json": {
       "model_id": "9e92caf595a249908017d27932197af2",
       "version_major": 2,
       "version_minor": 0
      },
      "text/plain": [
       "kaiser.csv:   0%|          | 0.00/8.55M [00:00<?, ?B/s]"
      ]
     },
     "metadata": {},
     "output_type": "display_data"
    },
    {
     "data": {
      "application/vnd.jupyter.widget-view+json": {
       "model_id": "c65ac61a25c2486dbd49f2f3731f3a90",
       "version_major": 2,
       "version_minor": 0
      },
      "text/plain": [
       ".gitattributes:   0%|          | 0.00/2.61k [00:00<?, ?B/s]"
      ]
     },
     "metadata": {},
     "output_type": "display_data"
    },
    {
     "data": {
      "application/vnd.jupyter.widget-view+json": {
       "model_id": "df44e110642c454aa3b35e349ddc27be",
       "version_major": 2,
       "version_minor": 0
      },
      "text/plain": [
       "anton_532.csv:   0%|          | 0.00/3.54M [00:00<?, ?B/s]"
      ]
     },
     "metadata": {},
     "output_type": "display_data"
    },
    {
     "data": {
      "application/vnd.jupyter.widget-view+json": {
       "model_id": "46d72d42a5114bcc8875065f35a26e0a",
       "version_major": 2,
       "version_minor": 0
      },
      "text/plain": [
       "timegate.csv:   0%|          | 0.00/808k [00:00<?, ?B/s]"
      ]
     },
     "metadata": {},
     "output_type": "display_data"
    },
    {
     "data": {
      "application/vnd.jupyter.widget-view+json": {
       "model_id": "9cbd6c39cb51445aa9da5dfc1a9a1c76",
       "version_major": 2,
       "version_minor": 0
      },
      "text/plain": [
       "transfer_plate.csv:   0%|          | 0.00/2.02M [00:00<?, ?B/s]"
      ]
     },
     "metadata": {},
     "output_type": "display_data"
    },
    {
     "data": {
      "application/vnd.jupyter.widget-view+json": {
       "model_id": "598f8eef07db4d048ead630186086b95",
       "version_major": 2,
       "version_minor": 0
      },
      "text/plain": [
       "mettler_toledo.csv:   0%|          | 0.00/13.5M [00:00<?, ?B/s]"
      ]
     },
     "metadata": {},
     "output_type": "display_data"
    },
    {
     "data": {
      "application/vnd.jupyter.widget-view+json": {
       "model_id": "9db369edf23548879d1195ac70f8be11",
       "version_major": 2,
       "version_minor": 0
      },
      "text/plain": [
       "tec5.csv:   0%|          | 0.00/15.7M [00:00<?, ?B/s]"
      ]
     },
     "metadata": {},
     "output_type": "display_data"
    },
    {
     "data": {
      "application/vnd.jupyter.widget-view+json": {
       "model_id": "bf0179e0e7c246e9909178354d7ec743",
       "version_major": 2,
       "version_minor": 0
      },
      "text/plain": [
       "tornado.csv:   0%|          | 0.00/19.5M [00:00<?, ?B/s]"
      ]
     },
     "metadata": {},
     "output_type": "display_data"
    }
   ],
   "source": [
    "from utils import hf_ds_download\n",
    "\n",
    "HF_TOKEN = \"xhf_XURkoNhwOIPtEdHfNeRpVkjEwKSkhtigFi\"\n",
    "path = hf_ds_download(HF_TOKEN, repo_id=\"ArbaazBeg/kaggle-spectogram\")"
   ]
  },
  {
   "cell_type": "code",
   "execution_count": 6,
   "id": "b81644e4",
   "metadata": {},
   "outputs": [
    {
     "data": {
      "text/plain": [
       "[(0, '.gitattributes'),\n",
       " (1, '96_samples.csv'),\n",
       " (2, 'anton_532.csv'),\n",
       " (3, 'anton_785.csv'),\n",
       " (4, 'kaiser.csv'),\n",
       " (5, 'metrohm.csv'),\n",
       " (6, 'mettler_toledo.csv'),\n",
       " (7, 'sample_submission.csv'),\n",
       " (8, 'tec5.csv'),\n",
       " (9, 'timegate.csv'),\n",
       " (10, 'tornado.csv'),\n",
       " (11, 'transfer_plate.csv')]"
      ]
     },
     "execution_count": 6,
     "metadata": {},
     "output_type": "execute_result"
    }
   ],
   "source": [
    "import os\n",
    "\n",
    "#path = \"/root/.cache/huggingface/hub/datasets--ArbaazBeg--kaggle-spectogram/snapshots/b61d17629d4886fcc89e5bd9ca022af4da493d73\"\n",
    "files = sorted(os.listdir(path))\n",
    "[(i, files[i]) for i in range(len(files))]"
   ]
  },
  {
   "cell_type": "code",
   "execution_count": 7,
   "id": "ca6588a9",
   "metadata": {},
   "outputs": [
    {
     "name": "stderr",
     "output_type": "stream",
     "text": [
      "<>:13: SyntaxWarning: invalid escape sequence '\\['\n",
      "<>:14: SyntaxWarning: invalid escape sequence '\\['\n",
      "<>:13: SyntaxWarning: invalid escape sequence '\\['\n",
      "<>:14: SyntaxWarning: invalid escape sequence '\\['\n",
      "/tmp/ipykernel_8378/3793664017.py:13: SyntaxWarning: invalid escape sequence '\\['\n",
      "  df['Unnamed: 1'] = df['Unnamed: 1'].str.replace(\"[\\[\\]]\", \"\", regex=True).astype('int64')\n",
      "/tmp/ipykernel_8378/3793664017.py:14: SyntaxWarning: invalid escape sequence '\\['\n",
      "  df['Unnamed: 2048'] = df['Unnamed: 2048'].str.replace(\"[\\[\\]]\", \"\", regex=True).astype('int64')\n"
     ]
    },
    {
     "data": {
      "text/plain": [
       "((96, 2048), (96, 3))"
      ]
     },
     "execution_count": 7,
     "metadata": {},
     "output_type": "execute_result"
    }
   ],
   "source": [
    "import pandas as pd\n",
    "\n",
    "\n",
    "csv_path = os.path.join(path, files[11])\n",
    "df = pd.read_csv(csv_path)\n",
    "\n",
    "input_cols = df.columns[1:2049]\n",
    "target_cols = df.columns[2050:]\n",
    "\n",
    "targets  = df[target_cols].dropna().to_numpy()\n",
    "\n",
    "df = df[input_cols]\n",
    "df['Unnamed: 1'] = df['Unnamed: 1'].str.replace(\"[\\[\\]]\", \"\", regex=True).astype('int64')\n",
    "df['Unnamed: 2048'] = df['Unnamed: 2048'].str.replace(\"[\\[\\]]\", \"\", regex=True).astype('int64')\n",
    "\n",
    "inputs = df.to_numpy().reshape(-1, 2, 2048)\n",
    "inputs = inputs.mean(axis=1)\n",
    "\n",
    "inputs.shape, targets.shape"
   ]
  },
  {
   "cell_type": "code",
   "execution_count": 8,
   "id": "494edfe7",
   "metadata": {},
   "outputs": [
    {
     "data": {
      "application/vnd.jupyter.widget-view+json": {
       "model_id": "1660393b4045413a8da03b08070e264b",
       "version_major": 2,
       "version_minor": 0
      },
      "text/plain": [
       "  0%|          | 0/96 [00:00<?, ?it/s]"
      ]
     },
     "metadata": {},
     "output_type": "display_data"
    },
    {
     "data": {
      "text/plain": [
       "(96, 3, 2048)"
      ]
     },
     "execution_count": 8,
     "metadata": {},
     "output_type": "execute_result"
    }
   ],
   "source": [
    "import numpy as np\n",
    "from scipy import signal\n",
    "from tqdm.auto import tqdm\n",
    "\n",
    "\n",
    "def get_advanced_spectra_features(X):\n",
    "    \"\"\"Create multi-channel features from spectra: raw, 1st derivative, 2nd derivative.\"\"\"\n",
    "    X_processed = np.zeros_like(X)\n",
    "    # Baseline correction and SNV\n",
    "    for i in tqdm(range(X.shape[0])):\n",
    "        poly = np.polyfit(np.arange(X.shape[1]), X[i], 3)\n",
    "        baseline = np.polyval(poly, np.arange(X.shape[1]))\n",
    "        corrected_spec = X[i] - baseline\n",
    "        X_processed[i] = (corrected_spec - corrected_spec.mean()) / (corrected_spec.std() + 1e-8)\n",
    "\n",
    "    # Calculate derivatives\n",
    "    deriv1 = signal.savgol_filter(X_processed, window_length=11, polyorder=3, deriv=1, axis=1)\n",
    "    deriv2 = signal.savgol_filter(X_processed, window_length=11, polyorder=3, deriv=2, axis=1)\n",
    "\n",
    "    # Stack as channels\n",
    "    return np.stack([X_processed, deriv1, deriv2], axis=1)\n",
    "\n",
    "inputs = get_advanced_spectra_features(inputs)\n",
    "inputs.shape"
   ]
  },
  {
   "cell_type": "code",
   "execution_count": 9,
   "id": "ec04c142",
   "metadata": {},
   "outputs": [],
   "source": [
    "inputs = inputs.reshape(-1, 3 * 2048).astype(np.float32)\n",
    "targets = targets.astype(np.float32)"
   ]
  },
  {
   "cell_type": "code",
   "execution_count": 10,
   "id": "a80358db",
   "metadata": {},
   "outputs": [],
   "source": [
    "train_inputs, eval_inputs, train_targets, eval_targets = split(inputs, targets, SEED)"
   ]
  },
  {
   "cell_type": "code",
   "execution_count": 11,
   "id": "e0e99d84",
   "metadata": {},
   "outputs": [],
   "source": [
    "_, _, mean, std = get_stats(train_inputs, p=False, r=True)\n",
    "train_inputs = zscore(train_inputs, mean, std)\n",
    "eval_inputs = zscore(eval_inputs, mean, std)"
   ]
  },
  {
   "cell_type": "code",
   "execution_count": null,
   "id": "d95c6425",
   "metadata": {},
   "outputs": [
    {
     "name": "stderr",
     "output_type": "stream",
     "text": [
      "[I 2025-08-21 11:26:41,045] A new study created in memory with name: no-name-76e2879f-cbb6-4c75-b800-b99c55c6b290\n",
      "[I 2025-08-21 11:27:04,429] Trial 2 finished with value: -0.1607435941696167 and parameters: {'n_estimators': 390, 'max_depth': 17, 'learning_rate': 0.0025102287166713613}. Best is trial 2 with value: -0.1607435941696167.\n",
      "[I 2025-08-21 11:27:07,409] Trial 3 finished with value: 0.8693812489509583 and parameters: {'n_estimators': 593, 'max_depth': 17, 'learning_rate': 0.10780321329415883}. Best is trial 3 with value: 0.8693812489509583.\n",
      "[I 2025-08-21 11:27:10,230] Trial 1 finished with value: 0.6935000419616699 and parameters: {'n_estimators': 477, 'max_depth': 8, 'learning_rate': 0.003635902388497257}. Best is trial 3 with value: 0.8693812489509583.\n",
      "[I 2025-08-21 11:27:33,418] Trial 4 finished with value: 0.9041867256164551 and parameters: {'n_estimators': 434, 'max_depth': 17, 'learning_rate': 0.006955357875612961}. Best is trial 4 with value: 0.9041867256164551.\n",
      "[I 2025-08-21 11:27:47,795] Trial 5 finished with value: 0.8990986347198486 and parameters: {'n_estimators': 819, 'max_depth': 3, 'learning_rate': 0.021735906663124607}. Best is trial 4 with value: 0.9041867256164551.\n",
      "[I 2025-08-21 11:27:49,171] Trial 0 finished with value: 0.9049370884895325 and parameters: {'n_estimators': 906, 'max_depth': 19, 'learning_rate': 0.01367712718770574}. Best is trial 0 with value: 0.9049370884895325.\n",
      "[I 2025-08-21 11:27:59,040] Trial 7 finished with value: -5.390047073364258 and parameters: {'n_estimators': 473, 'max_depth': 12, 'learning_rate': 0.00018935732067776865}. Best is trial 0 with value: 0.9049370884895325.\n",
      "[I 2025-08-21 11:28:04,843] Trial 6 finished with value: 0.9083082675933838 and parameters: {'n_estimators': 779, 'max_depth': 10, 'learning_rate': 0.0072063366238786985}. Best is trial 6 with value: 0.9083082675933838.\n",
      "[I 2025-08-21 11:28:20,628] Trial 9 finished with value: -4.503960132598877 and parameters: {'n_estimators': 680, 'max_depth': 4, 'learning_rate': 0.00024456133815561757}. Best is trial 6 with value: 0.9083082675933838.\n",
      "[I 2025-08-21 11:28:20,968] Trial 10 finished with value: -1.0808480978012085 and parameters: {'n_estimators': 432, 'max_depth': 16, 'learning_rate': 0.0015540373203351873}. Best is trial 6 with value: 0.9083082675933838.\n",
      "[I 2025-08-21 11:28:22,819] Trial 11 finished with value: 0.9093491435050964 and parameters: {'n_estimators': 440, 'max_depth': 3, 'learning_rate': 0.007775914013395674}. Best is trial 11 with value: 0.9093491435050964.\n"
     ]
    }
   ],
   "source": [
    "import optuna\n",
    "from xgboost import XGBRegressor\n",
    "from sklearn.model_selection import KFold\n",
    "from sklearn.metrics import r2_score\n",
    "\n",
    "\n",
    "def objective(trial):\n",
    "    n_estimators = trial.suggest_int(\"n_estimators\", 200, 1000)\n",
    "    max_depth = trial.suggest_int(\"max_depth\", 3, 20)\n",
    "    learning_rate = trial.suggest_float(\"learning_rate\", 0.0001, 0.8, log=True)\n",
    "    \n",
    "    model = XGBRegressor(\n",
    "        n_estimators=n_estimators,\n",
    "        learning_rate=learning_rate,\n",
    "        max_depth=max_depth,\n",
    "        subsample=0.8,\n",
    "        colsample_bytree=0.8,\n",
    "        random_state=SEED,\n",
    "        n_jobs=-1,\n",
    "        #reg_lambda=1.0,\n",
    "        eval_metric=\"rmse\",  \n",
    "        #early_stopping_rounds=5,        \n",
    "        tree_method=\"hist\", \n",
    "        device=\"cuda\",\n",
    "    )\n",
    "\n",
    "    model.fit(\n",
    "        train_inputs, train_targets,\n",
    "        eval_set=[(eval_inputs, eval_targets)],\n",
    "        verbose=False,\n",
    "    )\n",
    "\n",
    "    preds = model.predict(eval_inputs)\n",
    "    return r2_score(eval_targets, preds)\n",
    "\n",
    "study = optuna.create_study(direction=\"maximize\")\n",
    "study.optimize(objective, n_trials=20, n_jobs=4)"
   ]
  },
  {
   "cell_type": "code",
   "execution_count": 14,
   "id": "41a90d08-ce3e-45ab-b4b6-8703b1115659",
   "metadata": {},
   "outputs": [],
   "source": [
    "import optuna \n",
    "\n",
    "study = optuna.load_study(study_name=\"xgb\", storage=\"sqlite:///experiements.db\")"
   ]
  },
  {
   "cell_type": "code",
   "execution_count": 15,
   "id": "fa3f052f-ccf5-4bc6-95b5-c163c1d9c2dd",
   "metadata": {},
   "outputs": [
    {
     "data": {
      "text/plain": [
       "({'n_estimators': 543,\n",
       "  'learning_rate': 0.008173583900478528,\n",
       "  'max_depth': 26,\n",
       "  'reg_lambda': 0.03218976847790143,\n",
       "  'early_stopping_rounds': 134},\n",
       " 0.9259349703788757)"
      ]
     },
     "execution_count": 15,
     "metadata": {},
     "output_type": "execute_result"
    }
   ],
   "source": [
    "study.best_params, study.best_value"
   ]
  },
  {
   "cell_type": "code",
   "execution_count": 17,
   "id": "dc2f5c72-e042-473b-ad1f-a13595f8ce2d",
   "metadata": {},
   "outputs": [
    {
     "name": "stderr",
     "output_type": "stream",
     "text": [
      "/venv/main/lib/python3.12/site-packages/xgboost/core.py:729: UserWarning: [05:31:29] WARNING: /workspace/src/common/error_msg.cc:58: Falling back to prediction using DMatrix due to mismatched devices. This might lead to higher memory usage and slower performance. XGBoost is running on: cuda:0, while the input data is on: cpu.\n",
      "Potential solutions:\n",
      "- Use a data structure that matches the device ordinal in the booster.\n",
      "- Set the device for booster before call to inplace_predict.\n",
      "\n",
      "This warning will only be shown once.\n",
      "\n",
      "  return func(**kwargs)\n"
     ]
    },
    {
     "data": {
      "text/plain": [
       "0.9259349703788757"
      ]
     },
     "execution_count": 17,
     "metadata": {},
     "output_type": "execute_result"
    }
   ],
   "source": [
    "import optuna\n",
    "from xgboost import XGBRegressor\n",
    "from sklearn.metrics import r2_score\n",
    "\n",
    "model = XGBRegressor(\n",
    "    n_estimators=study.best_params[\"n_estimators\"],\n",
    "    learning_rate=study.best_params[\"learning_rate\"],\n",
    "    max_depth=study.best_params[\"max_depth\"],\n",
    "    subsample=0.8,\n",
    "    colsample_bytree=0.8,\n",
    "    random_state=SEED,\n",
    "    n_jobs=-1,\n",
    "    reg_lambda=study.best_params[\"reg_lambda\"],\n",
    "    eval_metric=\"rmse\",  \n",
    "    early_stopping_rounds=study.best_params[\"early_stopping_rounds\"],      \n",
    "    tree_method=\"hist\", \n",
    "    device=\"cuda\",\n",
    ")\n",
    "\n",
    "model.fit(\n",
    "    train_inputs, train_targets,\n",
    "    eval_set=[(eval_inputs, eval_targets)],\n",
    "    verbose=False,\n",
    ")\n",
    "\n",
    "preds = model.predict(eval_inputs)\n",
    "r2_score(eval_targets, preds)"
   ]
  },
  {
   "cell_type": "code",
   "execution_count": 18,
   "id": "2599e74e-1199-4442-8c73-b92009b7cc6a",
   "metadata": {},
   "outputs": [
    {
     "data": {
      "text/plain": [
       "0.9143840670585632"
      ]
     },
     "execution_count": 18,
     "metadata": {},
     "output_type": "execute_result"
    }
   ],
   "source": [
    "r2_score(eval_targets, preds)"
   ]
  },
  {
   "cell_type": "code",
   "execution_count": null,
   "id": "28d7bb2e",
   "metadata": {},
   "outputs": [],
   "source": [
    "from xgboost import XGBRegressor\n",
    "from sklearn.model_selection import KFold\n",
    "from sklearn.metrics import r2_score\n",
    "from tqdm.auto import tqdm\n",
    "\n",
    "\n",
    "seeds = [SEED]#np.random.randint(0, 10**6, size=10).tolist()\n",
    "models = {\"1\": [], \"2\": [], \"3\": []}\n",
    "\n",
    "for seed in tqdm(seeds):\n",
    "    print(f\"Seed {seed}\")\n",
    "    kf = KFold(n_splits=5, shuffle=True, random_state=seed)\n",
    "    scores_mean = []\n",
    "    \n",
    "    for i in range(3):\n",
    "        splits = kf.split(inputs, targets)\n",
    "        scores = []\n",
    "        \n",
    "        for j, (train_idx, eval_idx) in enumerate(splits):\n",
    "            train_inputs, train_targets = inputs[train_idx], targets[train_idx, i]\n",
    "            eval_inputs, eval_targets = inputs[eval_idx], targets[eval_idx, i]\n",
    "            \n",
    "            _, _, mean, std = get_stats(train_inputs, p=False, r=True)\n",
    "            train_inputs = zscore(train_inputs, mean, std)\n",
    "            eval_inputs = zscore(eval_inputs, mean, std)\n",
    "            \n",
    "            model = XGBRegressor(\n",
    "                n_estimators=200,\n",
    "                learning_rate=0.05,\n",
    "                max_depth=3,\n",
    "                subsample=0.8,\n",
    "                colsample_bytree=0.8,\n",
    "                random_state=seed,\n",
    "                n_jobs=-1,\n",
    "                #reg_lambda=1.0,\n",
    "                eval_metric=\"rmse\",  \n",
    "                #early_stopping_rounds=5,        \n",
    "                tree_method=\"hist\", \n",
    "                device=\"cuda\",\n",
    "            )\n",
    "            \n",
    "            model.fit(\n",
    "                train_inputs, train_targets,\n",
    "                eval_set=[(eval_inputs, eval_targets)],\n",
    "                verbose=False,\n",
    "            )\n",
    "            \n",
    "            preds = model.predict(eval_inputs)\n",
    "            score = r2_score(eval_targets, preds)\n",
    "            scores.append(score)\n",
    "            models[str(i+1)].append((score, model, mean, std))\n",
    "        \n",
    "        scores = np.mean(scores)\n",
    "        scores_mean.append(scores)\n",
    "        print(f\"Mean R2 (target {i}): {scores:.4f}\")\n",
    "    \n",
    "    scores_mean = np.mean(scores_mean)\n",
    "    print(f\"Final: {scores_mean:.4f}\\n\")"
   ]
  },
  {
   "cell_type": "code",
   "execution_count": null,
   "id": "d20fe9e9",
   "metadata": {},
   "outputs": [],
   "source": [
    "def get_best_models(models):\n",
    "    best_models = []\n",
    "    \n",
    "    for i in range(1, 4):\n",
    "        score = float('-inf')\n",
    "        for s, model, mean, std in models[str(i)]:\n",
    "            if s > score:\n",
    "                score = s\n",
    "                best = model\n",
    "                mu = mean\n",
    "                sigma = std\n",
    "        best_models.append((best, score, mu, sigma))\n",
    "            \n",
    "    return best_models\n",
    "\n",
    "best_models = get_best_models(models)"
   ]
  },
  {
   "cell_type": "code",
   "execution_count": null,
   "id": "16e78700",
   "metadata": {},
   "outputs": [],
   "source": [
    "scores = {\"1\": [], \"2\": [], \"3\": []}\n",
    "for i in range(1, 4):\n",
    "    for s, m, mean, std in models[str(i)]:\n",
    "        scores[str(i)].append(s)    \n",
    "    scores[str(i)] = np.mean(scores[str(i)])\n",
    "    \n",
    "scores, np.mean([scores[\"1\"], scores[\"2\"], scores[\"3\"]])"
   ]
  },
  {
   "cell_type": "code",
   "execution_count": null,
   "id": "60ddca50",
   "metadata": {},
   "outputs": [],
   "source": [
    "scores = []\n",
    "for m, s, mu, sigma in best_models:\n",
    "    scores.append(s)\n",
    "scores, np.mean(scores)"
   ]
  },
  {
   "cell_type": "code",
   "execution_count": 18,
   "id": "9f83b584",
   "metadata": {},
   "outputs": [
    {
     "name": "stderr",
     "output_type": "stream",
     "text": [
      "<>:12: SyntaxWarning: invalid escape sequence '\\['\n",
      "<>:12: SyntaxWarning: invalid escape sequence '\\['\n",
      "/tmp/ipykernel_8378/2309359108.py:12: SyntaxWarning: invalid escape sequence '\\['\n",
      "  test_df[\" 5611]\"] = test_df[\" 5611]\"].str.replace('[\\[\\]]', '', regex=True).astype('int64')\n"
     ]
    },
    {
     "name": "stdout",
     "output_type": "stream",
     "text": [
      "Min: 983.5, Max: 65535.0, Mean: 3623.216623942057, Std: 6772.114021862654\n"
     ]
    },
    {
     "data": {
      "application/vnd.jupyter.widget-view+json": {
       "model_id": "d50efc1dc9d54c14bc94e6b322c4d007",
       "version_major": 2,
       "version_minor": 0
      },
      "text/plain": [
       "  0%|          | 0/96 [00:00<?, ?it/s]"
      ]
     },
     "metadata": {},
     "output_type": "display_data"
    },
    {
     "name": "stdout",
     "output_type": "stream",
     "text": [
      "Min: -7.431345851215631, Max: 23.697375375134172, Mean: -0.00016526900992435334, Std: 1.0056484999072834\n"
     ]
    },
    {
     "data": {
      "text/plain": [
       "((96, 6144), dtype('float64'), None)"
      ]
     },
     "execution_count": 18,
     "metadata": {},
     "output_type": "execute_result"
    }
   ],
   "source": [
    "csv_path = os.path.join(path, files[1])\n",
    "test_df = pd.read_csv(csv_path)\n",
    "\n",
    "\n",
    "row1 = test_df.columns[1:].to_numpy().copy()\n",
    "row1[-1] = \"5611\"\n",
    "row1 = row1.astype(np.float64)\n",
    "\n",
    "\n",
    "cols = test_df.columns[1:]\n",
    "test_df = test_df[cols]\n",
    "test_df[\" 5611]\"] = test_df[\" 5611]\"].str.replace('[\\[\\]]', '', regex=True).astype('int64')\n",
    "test = test_df.to_numpy()\n",
    "\n",
    "test = np.insert(test, 0, row1, axis=0)\n",
    "test = test.reshape(-1, 2, 2048).mean(axis=1)\n",
    "\n",
    "get_stats(test)\n",
    "test = get_advanced_spectra_features(test)\n",
    "test = test.reshape(-1, 3 * 2048)\n",
    "test = zscore(test, mean, std)\n",
    "test.shape, test.dtype, get_stats(test)"
   ]
  },
  {
   "cell_type": "code",
   "execution_count": 19,
   "id": "f1a2ad78-1191-4c44-b5a2-b9e8ab913694",
   "metadata": {},
   "outputs": [
    {
     "data": {
      "text/plain": [
       "(96, 3)"
      ]
     },
     "execution_count": 19,
     "metadata": {},
     "output_type": "execute_result"
    }
   ],
   "source": [
    "preds = model.predict(test)\n",
    "preds.shape"
   ]
  },
  {
   "cell_type": "code",
   "execution_count": null,
   "id": "7ad514f1",
   "metadata": {},
   "outputs": [],
   "source": [
    "preds = []\n",
    "\n",
    "for i in range(3):\n",
    "    local_preds = []\n",
    "    for _, model, mean, std in models[str(i + 1)]:\n",
    "        t = zscore(test.copy(), mean, std)\n",
    "        p = model.predict(test)\n",
    "        local_preds.append(p)\n",
    "    \n",
    "    local_preds = np.stack(local_preds).mean(axis=0)\n",
    "    preds.append(local_preds)\n",
    "    \n",
    "preds = np.column_stack(preds)\n",
    "preds.shape"
   ]
  },
  {
   "cell_type": "code",
   "execution_count": null,
   "id": "6c3ef61a",
   "metadata": {},
   "outputs": [],
   "source": [
    "preds = []\n",
    "\n",
    "for model, s, mean, std in best_models:\n",
    "    print(mean, std)\n",
    "    t = zscore(test.copy(), mean, std)\n",
    "    p = model.predict(t)\n",
    "    preds.append(p)\n",
    "    \n",
    "preds = np.column_stack(preds)\n",
    "preds.shape"
   ]
  },
  {
   "cell_type": "code",
   "execution_count": null,
   "id": "4c05d238-92c9-4935-b325-3f0b54e37f57",
   "metadata": {},
   "outputs": [],
   "source": [
    "preds = model.o"
   ]
  },
  {
   "cell_type": "code",
   "execution_count": 23,
   "id": "32f8c869",
   "metadata": {},
   "outputs": [
    {
     "data": {
      "text/html": [
       "<div>\n",
       "<style scoped>\n",
       "    .dataframe tbody tr th:only-of-type {\n",
       "        vertical-align: middle;\n",
       "    }\n",
       "\n",
       "    .dataframe tbody tr th {\n",
       "        vertical-align: top;\n",
       "    }\n",
       "\n",
       "    .dataframe thead th {\n",
       "        text-align: right;\n",
       "    }\n",
       "</style>\n",
       "<table border=\"1\" class=\"dataframe\">\n",
       "  <thead>\n",
       "    <tr style=\"text-align: right;\">\n",
       "      <th></th>\n",
       "      <th>ID</th>\n",
       "      <th>Glucose</th>\n",
       "      <th>Sodium Acetate</th>\n",
       "      <th>Magnesium Sulfate</th>\n",
       "    </tr>\n",
       "  </thead>\n",
       "  <tbody>\n",
       "    <tr>\n",
       "      <th>0</th>\n",
       "      <td>1</td>\n",
       "      <td>3.206942</td>\n",
       "      <td>0.909356</td>\n",
       "      <td>0.590890</td>\n",
       "    </tr>\n",
       "    <tr>\n",
       "      <th>1</th>\n",
       "      <td>2</td>\n",
       "      <td>6.820968</td>\n",
       "      <td>1.962672</td>\n",
       "      <td>1.805737</td>\n",
       "    </tr>\n",
       "    <tr>\n",
       "      <th>2</th>\n",
       "      <td>3</td>\n",
       "      <td>4.210983</td>\n",
       "      <td>0.474982</td>\n",
       "      <td>1.159761</td>\n",
       "    </tr>\n",
       "    <tr>\n",
       "      <th>3</th>\n",
       "      <td>4</td>\n",
       "      <td>3.949406</td>\n",
       "      <td>0.960254</td>\n",
       "      <td>0.582332</td>\n",
       "    </tr>\n",
       "    <tr>\n",
       "      <th>4</th>\n",
       "      <td>5</td>\n",
       "      <td>9.441555</td>\n",
       "      <td>0.991336</td>\n",
       "      <td>1.285040</td>\n",
       "    </tr>\n",
       "    <tr>\n",
       "      <th>...</th>\n",
       "      <td>...</td>\n",
       "      <td>...</td>\n",
       "      <td>...</td>\n",
       "      <td>...</td>\n",
       "    </tr>\n",
       "    <tr>\n",
       "      <th>91</th>\n",
       "      <td>92</td>\n",
       "      <td>4.732452</td>\n",
       "      <td>0.798559</td>\n",
       "      <td>1.031371</td>\n",
       "    </tr>\n",
       "    <tr>\n",
       "      <th>92</th>\n",
       "      <td>93</td>\n",
       "      <td>4.856393</td>\n",
       "      <td>0.471741</td>\n",
       "      <td>1.102562</td>\n",
       "    </tr>\n",
       "    <tr>\n",
       "      <th>93</th>\n",
       "      <td>94</td>\n",
       "      <td>3.909436</td>\n",
       "      <td>0.482411</td>\n",
       "      <td>0.913660</td>\n",
       "    </tr>\n",
       "    <tr>\n",
       "      <th>94</th>\n",
       "      <td>95</td>\n",
       "      <td>3.492605</td>\n",
       "      <td>1.391877</td>\n",
       "      <td>1.117882</td>\n",
       "    </tr>\n",
       "    <tr>\n",
       "      <th>95</th>\n",
       "      <td>96</td>\n",
       "      <td>4.434951</td>\n",
       "      <td>1.872235</td>\n",
       "      <td>1.184243</td>\n",
       "    </tr>\n",
       "  </tbody>\n",
       "</table>\n",
       "<p>96 rows × 4 columns</p>\n",
       "</div>"
      ],
      "text/plain": [
       "    ID   Glucose  Sodium Acetate  Magnesium Sulfate\n",
       "0    1  3.206942        0.909356           0.590890\n",
       "1    2  6.820968        1.962672           1.805737\n",
       "2    3  4.210983        0.474982           1.159761\n",
       "3    4  3.949406        0.960254           0.582332\n",
       "4    5  9.441555        0.991336           1.285040\n",
       "..  ..       ...             ...                ...\n",
       "91  92  4.732452        0.798559           1.031371\n",
       "92  93  4.856393        0.471741           1.102562\n",
       "93  94  3.909436        0.482411           0.913660\n",
       "94  95  3.492605        1.391877           1.117882\n",
       "95  96  4.434951        1.872235           1.184243\n",
       "\n",
       "[96 rows x 4 columns]"
      ]
     },
     "execution_count": 23,
     "metadata": {},
     "output_type": "execute_result"
    }
   ],
   "source": [
    "column_names = ['Glucose', 'Sodium Acetate', 'Magnesium Sulfate']\n",
    "preds_df = pd.DataFrame(preds, columns=column_names)\n",
    "preds_df.insert(0, 'ID', [i+1 for i in range(len(preds_df))])\n",
    "preds_df"
   ]
  },
  {
   "cell_type": "code",
   "execution_count": 27,
   "id": "401b302e",
   "metadata": {},
   "outputs": [
    {
     "data": {
      "text/html": [
       "<div>\n",
       "<style scoped>\n",
       "    .dataframe tbody tr th:only-of-type {\n",
       "        vertical-align: middle;\n",
       "    }\n",
       "\n",
       "    .dataframe tbody tr th {\n",
       "        vertical-align: top;\n",
       "    }\n",
       "\n",
       "    .dataframe thead th {\n",
       "        text-align: right;\n",
       "    }\n",
       "</style>\n",
       "<table border=\"1\" class=\"dataframe\">\n",
       "  <thead>\n",
       "    <tr style=\"text-align: right;\">\n",
       "      <th></th>\n",
       "      <th>ID</th>\n",
       "      <th>Glucose</th>\n",
       "      <th>Sodium Acetate</th>\n",
       "      <th>Magnesium Sulfate</th>\n",
       "    </tr>\n",
       "  </thead>\n",
       "  <tbody>\n",
       "    <tr>\n",
       "      <th>0</th>\n",
       "      <td>1</td>\n",
       "      <td>3.206942</td>\n",
       "      <td>0.909355</td>\n",
       "      <td>0.590890</td>\n",
       "    </tr>\n",
       "    <tr>\n",
       "      <th>1</th>\n",
       "      <td>2</td>\n",
       "      <td>6.820968</td>\n",
       "      <td>1.962671</td>\n",
       "      <td>1.805737</td>\n",
       "    </tr>\n",
       "    <tr>\n",
       "      <th>2</th>\n",
       "      <td>3</td>\n",
       "      <td>4.210983</td>\n",
       "      <td>0.474982</td>\n",
       "      <td>1.159761</td>\n",
       "    </tr>\n",
       "    <tr>\n",
       "      <th>3</th>\n",
       "      <td>4</td>\n",
       "      <td>3.949406</td>\n",
       "      <td>0.960254</td>\n",
       "      <td>0.582332</td>\n",
       "    </tr>\n",
       "    <tr>\n",
       "      <th>4</th>\n",
       "      <td>5</td>\n",
       "      <td>9.441555</td>\n",
       "      <td>0.991336</td>\n",
       "      <td>1.285040</td>\n",
       "    </tr>\n",
       "    <tr>\n",
       "      <th>...</th>\n",
       "      <td>...</td>\n",
       "      <td>...</td>\n",
       "      <td>...</td>\n",
       "      <td>...</td>\n",
       "    </tr>\n",
       "    <tr>\n",
       "      <th>91</th>\n",
       "      <td>92</td>\n",
       "      <td>4.732452</td>\n",
       "      <td>0.798559</td>\n",
       "      <td>1.031371</td>\n",
       "    </tr>\n",
       "    <tr>\n",
       "      <th>92</th>\n",
       "      <td>93</td>\n",
       "      <td>4.856393</td>\n",
       "      <td>0.471741</td>\n",
       "      <td>1.102562</td>\n",
       "    </tr>\n",
       "    <tr>\n",
       "      <th>93</th>\n",
       "      <td>94</td>\n",
       "      <td>3.909436</td>\n",
       "      <td>0.482411</td>\n",
       "      <td>0.913660</td>\n",
       "    </tr>\n",
       "    <tr>\n",
       "      <th>94</th>\n",
       "      <td>95</td>\n",
       "      <td>3.492605</td>\n",
       "      <td>1.391877</td>\n",
       "      <td>1.117882</td>\n",
       "    </tr>\n",
       "    <tr>\n",
       "      <th>95</th>\n",
       "      <td>96</td>\n",
       "      <td>4.434951</td>\n",
       "      <td>1.872235</td>\n",
       "      <td>1.184243</td>\n",
       "    </tr>\n",
       "  </tbody>\n",
       "</table>\n",
       "<p>96 rows × 4 columns</p>\n",
       "</div>"
      ],
      "text/plain": [
       "    ID   Glucose  Sodium Acetate  Magnesium Sulfate\n",
       "0    1  3.206942        0.909355           0.590890\n",
       "1    2  6.820968        1.962671           1.805737\n",
       "2    3  4.210983        0.474982           1.159761\n",
       "3    4  3.949406        0.960254           0.582332\n",
       "4    5  9.441555        0.991336           1.285040\n",
       "..  ..       ...             ...                ...\n",
       "91  92  4.732452        0.798559           1.031371\n",
       "92  93  4.856393        0.471741           1.102562\n",
       "93  94  3.909436        0.482411           0.913660\n",
       "94  95  3.492605        1.391877           1.117882\n",
       "95  96  4.434951        1.872235           1.184243\n",
       "\n",
       "[96 rows x 4 columns]"
      ]
     },
     "execution_count": 27,
     "metadata": {},
     "output_type": "execute_result"
    }
   ],
   "source": [
    "name = \"/xgboost.optuna.9143.csv\"\n",
    "preds_df.to_csv(name, index=False)\n",
    "f = pd.read_csv(f\"{name}\")\n",
    "f"
   ]
  },
  {
   "cell_type": "code",
   "execution_count": null,
   "id": "dfd1db15",
   "metadata": {},
   "outputs": [],
   "source": []
  }
 ],
 "metadata": {
  "kernelspec": {
   "display_name": "Python3 (main venv)",
   "language": "python",
   "name": "main"
  },
  "language_info": {
   "codemirror_mode": {
    "name": "ipython",
    "version": 3
   },
   "file_extension": ".py",
   "mimetype": "text/x-python",
   "name": "python",
   "nbconvert_exporter": "python",
   "pygments_lexer": "ipython3",
   "version": "3.12.11"
  }
 },
 "nbformat": 4,
 "nbformat_minor": 5
}
