{
 "cells": [
  {
   "cell_type": "code",
   "execution_count": null,
   "metadata": {
    "execution": {
     "iopub.execute_input": "2025-08-13T05:38:03.359753Z",
     "iopub.status.busy": "2025-08-13T05:38:03.359267Z",
     "iopub.status.idle": "2025-08-13T05:38:03.370622Z",
     "shell.execute_reply": "2025-08-13T05:38:03.369430Z",
     "shell.execute_reply.started": "2025-08-13T05:38:03.359680Z"
    },
    "trusted": true
   },
   "outputs": [],
   "source": [
    "import os\n",
    "\n",
    "path = \"/kaggle/input/dig-4-bio-raman-transfer-learning-challenge\"\n",
    "files = os.listdir(path)\n",
    "[(i, files[i]) for i in range(len(files))]"
   ]
  },
  {
   "cell_type": "code",
   "execution_count": null,
   "metadata": {
    "execution": {
     "iopub.execute_input": "2025-08-13T05:38:03.372207Z",
     "iopub.status.busy": "2025-08-13T05:38:03.371818Z",
     "iopub.status.idle": "2025-08-13T05:38:04.027661Z",
     "shell.execute_reply": "2025-08-13T05:38:04.026458Z",
     "shell.execute_reply.started": "2025-08-13T05:38:03.372171Z"
    },
    "trusted": true
   },
   "outputs": [],
   "source": [
    "import pandas as pd\n",
    "\n",
    "df = pd.read_csv(os.path.join(path, files[5]))\n",
    "df"
   ]
  },
  {
   "cell_type": "code",
   "execution_count": null,
   "metadata": {
    "execution": {
     "iopub.execute_input": "2025-08-13T05:38:07.239423Z",
     "iopub.status.busy": "2025-08-13T05:38:07.238588Z",
     "iopub.status.idle": "2025-08-13T05:38:07.244976Z",
     "shell.execute_reply": "2025-08-13T05:38:07.243069Z",
     "shell.execute_reply.started": "2025-08-13T05:38:07.239387Z"
    },
    "trusted": true
   },
   "outputs": [],
   "source": [
    "input_cols = df.columns[1:2049]\n",
    "target_cols = df.columns[2050:]"
   ]
  },
  {
   "cell_type": "code",
   "execution_count": null,
   "metadata": {
    "execution": {
     "iopub.execute_input": "2025-08-13T05:38:08.714355Z",
     "iopub.status.busy": "2025-08-13T05:38:08.713966Z",
     "iopub.status.idle": "2025-08-13T05:38:08.725976Z",
     "shell.execute_reply": "2025-08-13T05:38:08.724822Z",
     "shell.execute_reply.started": "2025-08-13T05:38:08.714324Z"
    },
    "trusted": true
   },
   "outputs": [],
   "source": [
    "targets  = df[target_cols].dropna().to_numpy()\n",
    "targets[:5]"
   ]
  },
  {
   "cell_type": "code",
   "execution_count": null,
   "metadata": {
    "execution": {
     "iopub.execute_input": "2025-08-13T05:38:10.239867Z",
     "iopub.status.busy": "2025-08-13T05:38:10.239386Z",
     "iopub.status.idle": "2025-08-13T05:38:10.260483Z",
     "shell.execute_reply": "2025-08-13T05:38:10.259169Z",
     "shell.execute_reply.started": "2025-08-13T05:38:10.239832Z"
    },
    "trusted": true
   },
   "outputs": [],
   "source": [
    "df = df[input_cols]\n",
    "df['Unnamed: 1'] = df['Unnamed: 1'].str.replace('[\\[\\]]', '', regex=True).astype('int64')\n",
    "df['Unnamed: 2048'] = df['Unnamed: 2048'].str.replace('[\\[\\]]', '', regex=True).astype('int64')"
   ]
  },
  {
   "cell_type": "code",
   "execution_count": null,
   "metadata": {
    "execution": {
     "iopub.execute_input": "2025-08-13T05:38:10.799794Z",
     "iopub.status.busy": "2025-08-13T05:38:10.799353Z",
     "iopub.status.idle": "2025-08-13T05:38:11.002877Z",
     "shell.execute_reply": "2025-08-13T05:38:11.001763Z",
     "shell.execute_reply.started": "2025-08-13T05:38:10.799761Z"
    },
    "trusted": true
   },
   "outputs": [],
   "source": [
    "import numpy as np\n",
    "\n",
    "inputs = []\n",
    "for i in range(0, len(df), 2):\n",
    "    row1 = df.iloc[i].to_numpy()\n",
    "    row2 = df.iloc[i+1].to_numpy()\n",
    "    i = np.concatenate([row1, row2])\n",
    "    inputs.append(i)\n",
    "    \n",
    "inputs = np.stack(inputs)\n",
    "inputs.shape"
   ]
  },
  {
   "cell_type": "code",
   "execution_count": null,
   "metadata": {
    "execution": {
     "iopub.execute_input": "2025-08-13T05:38:13.410577Z",
     "iopub.status.busy": "2025-08-13T05:38:13.409546Z",
     "iopub.status.idle": "2025-08-13T05:38:14.157506Z",
     "shell.execute_reply": "2025-08-13T05:38:14.156575Z",
     "shell.execute_reply.started": "2025-08-13T05:38:13.410534Z"
    },
    "trusted": true
   },
   "outputs": [],
   "source": [
    "from sklearn.model_selection import train_test_split\n",
    "\n",
    "\n",
    "train_inputs, eval_inputs, train_targets, eval_targets = train_test_split(\n",
    "        inputs,\n",
    "        targets,                      \n",
    "        test_size=0.2,\n",
    "        random_state=1000,\n",
    "        shuffle=True\n",
    ")\n",
    "\n",
    "train_inputs.shape, eval_inputs.shape, train_targets.shape, eval_targets.shape"
   ]
  },
  {
   "cell_type": "code",
   "execution_count": null,
   "metadata": {
    "execution": {
     "iopub.execute_input": "2025-08-13T05:38:15.602590Z",
     "iopub.status.busy": "2025-08-13T05:38:15.601992Z",
     "iopub.status.idle": "2025-08-13T05:38:15.631888Z",
     "shell.execute_reply": "2025-08-13T05:38:15.630554Z",
     "shell.execute_reply.started": "2025-08-13T05:38:15.602557Z"
    },
    "trusted": true
   },
   "outputs": [],
   "source": [
    "from sklearn.preprocessing import StandardScaler\n",
    "\n",
    "scaler = StandardScaler()\n",
    "train_inputs = scaler.fit_transform(train_inputs)\n",
    "eval_inputs = scaler.transform(eval_inputs)"
   ]
  },
  {
   "cell_type": "code",
   "execution_count": null,
   "metadata": {
    "execution": {
     "iopub.execute_input": "2025-08-13T05:38:17.545250Z",
     "iopub.status.busy": "2025-08-13T05:38:17.543843Z",
     "iopub.status.idle": "2025-08-13T05:38:47.702835Z",
     "shell.execute_reply": "2025-08-13T05:38:47.701631Z",
     "shell.execute_reply.started": "2025-08-13T05:38:17.545208Z"
    },
    "trusted": true
   },
   "outputs": [],
   "source": [
    "from xgboost import XGBRegressor\n",
    "from sklearn.multioutput import MultiOutputRegressor\n",
    "from sklearn.metrics import r2_score\n",
    "\n",
    "\n",
    "xgb = XGBRegressor(\n",
    "    n_estimators=250,\n",
    "    max_depth=2,\n",
    "    learning_rate=0.05,\n",
    "    objective='reg:squarederror',\n",
    "    random_state=1000,\n",
    "    eval_metric='rmse',\n",
    "    reg_lambda=0.01,\n",
    ")\n",
    "xgb = MultiOutputRegressor(xgb)\n",
    "\n",
    "xgb.fit(train_inputs, train_targets, verbose=True)\n",
    "preds = xgb.predict(train_inputs)\n",
    "r2_score(train_targets, preds, multioutput='uniform_average')"
   ]
  },
  {
   "cell_type": "code",
   "execution_count": null,
   "metadata": {
    "execution": {
     "iopub.execute_input": "2025-08-13T05:38:51.626281Z",
     "iopub.status.busy": "2025-08-13T05:38:51.625874Z",
     "iopub.status.idle": "2025-08-13T05:38:51.642654Z",
     "shell.execute_reply": "2025-08-13T05:38:51.641665Z",
     "shell.execute_reply.started": "2025-08-13T05:38:51.626255Z"
    },
    "trusted": true
   },
   "outputs": [],
   "source": [
    "preds = xgb.predict(eval_inputs)\n",
    "r2_score(eval_targets, preds, multioutput='uniform_average')"
   ]
  },
  {
   "cell_type": "code",
   "execution_count": null,
   "metadata": {},
   "outputs": [],
   "source": [
    "0.6156981749990731, 2, 0.01, \n",
    "0.6158108300334649, 2, 0.01, 250"
   ]
  },
  {
   "cell_type": "code",
   "execution_count": null,
   "metadata": {
    "execution": {
     "iopub.execute_input": "2025-08-13T05:38:54.374610Z",
     "iopub.status.busy": "2025-08-13T05:38:54.374187Z",
     "iopub.status.idle": "2025-08-13T05:38:54.522345Z",
     "shell.execute_reply": "2025-08-13T05:38:54.520846Z",
     "shell.execute_reply.started": "2025-08-13T05:38:54.374578Z"
    },
    "trusted": true
   },
   "outputs": [],
   "source": [
    "#def load_test():\n",
    "test = pd.read_csv(os.path.join(path, files[6]))\n",
    "\n",
    "row1 = test.columns[1:].to_numpy().copy()\n",
    "row1[-1] = \"5611\"\n",
    "row1 = row1.astype(np.float64)\n",
    "\n",
    "\n",
    "cols = test.columns[1:]\n",
    "test = test[cols]\n",
    "test[\" 5611]\"] = test[\" 5611]\"].str.replace('[\\[\\]]', '', regex=True).astype('int64')\n",
    "test = test.to_numpy()\n",
    "\n",
    "test = np.insert(test, 0, row1, axis=0)\n",
    "test = test.reshape(-1, 2, 2048).reshape(96, 2*2048)\n",
    "test = test.astype(np.float32)\n",
    "test.shape, test.dtype"
   ]
  },
  {
   "cell_type": "code",
   "execution_count": null,
   "metadata": {
    "execution": {
     "iopub.execute_input": "2025-08-13T05:38:56.788721Z",
     "iopub.status.busy": "2025-08-13T05:38:56.788348Z",
     "iopub.status.idle": "2025-08-13T05:38:56.808415Z",
     "shell.execute_reply": "2025-08-13T05:38:56.807319Z",
     "shell.execute_reply.started": "2025-08-13T05:38:56.788679Z"
    },
    "trusted": true
   },
   "outputs": [],
   "source": [
    "#def scale():\n",
    "test = scaler.transform(test)\n",
    "preds = xgb.predict(test)\n",
    "preds.shape"
   ]
  },
  {
   "cell_type": "code",
   "execution_count": null,
   "metadata": {
    "execution": {
     "iopub.execute_input": "2025-08-13T05:38:58.909362Z",
     "iopub.status.busy": "2025-08-13T05:38:58.908930Z",
     "iopub.status.idle": "2025-08-13T05:38:58.926823Z",
     "shell.execute_reply": "2025-08-13T05:38:58.925789Z",
     "shell.execute_reply.started": "2025-08-13T05:38:58.909334Z"
    },
    "trusted": true
   },
   "outputs": [],
   "source": [
    "#def prepare_test():\n",
    "column_names = ['Glucose', 'Sodium Acetate', 'Magnesium Sulfate']\n",
    "preds_df = pd.DataFrame(preds, columns=column_names)\n",
    "preds_df.insert(0, 'ID', [i+1 for i in range(len(preds_df))])\n",
    "preds_df"
   ]
  },
  {
   "cell_type": "code",
   "execution_count": null,
   "metadata": {
    "execution": {
     "iopub.execute_input": "2025-08-13T05:39:07.934713Z",
     "iopub.status.busy": "2025-08-13T05:39:07.934305Z",
     "iopub.status.idle": "2025-08-13T05:39:07.955465Z",
     "shell.execute_reply": "2025-08-13T05:39:07.954454Z",
     "shell.execute_reply.started": "2025-08-13T05:39:07.934670Z"
    },
    "trusted": true
   },
   "outputs": [],
   "source": [
    "#def save_test():\n",
    "preds_df.to_csv(\"baseline.csv\", index=False)\n",
    "f = pd.read_csv(\"/kaggle/working/xgb_baseline.csv\")\n",
    "f"
   ]
  },
  {
   "cell_type": "code",
   "execution_count": null,
   "metadata": {
    "trusted": true
   },
   "outputs": [],
   "source": []
  }
 ],
 "metadata": {
  "kaggle": {
   "accelerator": "none",
   "dataSources": [
    {
     "databundleVersionId": 12807347,
     "sourceId": 105802,
     "sourceType": "competition"
    }
   ],
   "dockerImageVersionId": 31089,
   "isGpuEnabled": false,
   "isInternetEnabled": true,
   "language": "python",
   "sourceType": "notebook"
  },
  "kernelspec": {
   "display_name": "Python 3 (ipykernel)",
   "language": "python",
   "name": "python3"
  },
  "language_info": {
   "codemirror_mode": {
    "name": "ipython",
    "version": 3
   },
   "file_extension": ".py",
   "mimetype": "text/x-python",
   "name": "python",
   "nbconvert_exporter": "python",
   "pygments_lexer": "ipython3",
   "version": "3.11.13"
  }
 },
 "nbformat": 4,
 "nbformat_minor": 4
}
