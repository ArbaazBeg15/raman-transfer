{
 "cells": [
  {
   "cell_type": "code",
   "execution_count": 1,
   "id": "4fcb44fd",
   "metadata": {},
   "outputs": [
    {
     "data": {
      "text/plain": [
       "[(0, 'sample_submission.csv'),\n",
       " (1, 'timegate.csv'),\n",
       " (2, 'mettler_toledo.csv'),\n",
       " (3, 'kaiser.csv'),\n",
       " (4, 'anton_532.csv'),\n",
       " (5, 'transfer_plate.csv'),\n",
       " (6, '96_samples.csv'),\n",
       " (7, 'tornado.csv'),\n",
       " (8, 'tec5.csv'),\n",
       " (9, 'metrohm.csv'),\n",
       " (10, 'anton_785.csv')]"
      ]
     },
     "execution_count": 1,
     "metadata": {},
     "output_type": "execute_result"
    }
   ],
   "source": [
    "import os\n",
    "\n",
    "path = \"/kaggle/input/dig-4-bio-raman-transfer-learning-challenge\"\n",
    "files = os.listdir(path)\n",
    "[(i, files[i]) for i in range(len(files))]"
   ]
  },
  {
   "cell_type": "code",
   "execution_count": 193,
   "id": "d423b4a3",
   "metadata": {},
   "outputs": [],
   "source": [
    "import pandas as pd\n",
    "\n",
    "\n",
    "lower_bounds = {\n",
    "    'anton_532': 200,\n",
    "    'anton_785': 100,\n",
    "    'kaiser': -37,\n",
    "    'mettler_toledo': 300,\n",
    "    'metrohm': 200,\n",
    "    'tec5': 85,\n",
    "    'timegate': 200,\n",
    "    'tornado': 300,\n",
    "}\n",
    "\n",
    "\n",
    "upper_bounds = {\n",
    "    'anton_532': 3500,\n",
    "    'anton_785': 2300,\n",
    "    'kaiser': 1942,\n",
    "    'mettler_toledo': 3350,\n",
    "    'metrohm': 3350,\n",
    "    'tec5': 3210,\n",
    "    'timegate': 2000,\n",
    "    'tornado': 3300,\n",
    "}\n",
    "\n",
    "def get_dataset(name, lower=-1000, upper=10000):\n",
    "    path = \"/kaggle/input/dig-4-bio-raman-transfer-learning-challenge\"\n",
    "    df = pd.read_csv(os.path.join(path, name))\n",
    "\n",
    "    lower = max(lower, lower_bounds[name[:-4]])\n",
    "    upper = min(upper, upper_bounds[name[:-4]])\n",
    "\n",
    "    spectra_selection = np.logical_and(\n",
    "        lower <= np.array([float(one) for one in df.columns[:-5]]),\n",
    "        np.array([float(one) for one in df.columns[:-5]]) <= upper,\n",
    "    )\n",
    "    \n",
    "    spectra = df.iloc[:, :-5].iloc[:, spectra_selection].values\n",
    "    label = df.iloc[:, -5:-2].values\n",
    "\n",
    "    wavenumbers = np.array([\n",
    "        float(one) for one in df.columns[:-5]\n",
    "    ])[spectra_selection]\n",
    "\n",
    "    #indices = get_indices(spectra, num_samples)                         \n",
    "    return spectra, label, wavenumbers\n",
    "\n",
    "\n",
    "def load_datasets(ds_names, lower=-1000, upper=10000):\n",
    "        \n",
    "    lower = max(\n",
    "        lower,\n",
    "        *[lower_bounds[n[:-4]] for n in ds_names])\n",
    "    \n",
    "    upper = min(\n",
    "        upper,\n",
    "        *[upper_bounds[n[:-4]] for n in ds_names]\n",
    "    )\n",
    "\n",
    "    datasets = [get_dataset(name, lower, upper) for name in ds_names]\n",
    "    wavenumbers = np.arange(lower, upper + 1)\n",
    "    \n",
    "    interpolated_data = [\n",
    "        np.array([\n",
    "            np.interp(\n",
    "                wavenumbers,\n",
    "                xp=wns,\n",
    "                fp=spectrum,\n",
    "            )\n",
    "            for spectrum in spectra\n",
    "        ])\n",
    "        for spectra, _, wns in datasets\n",
    "    ]\n",
    "\n",
    "    normed_spectra = np.concatenate(\n",
    "        [\n",
    "            spectra / np.max(spectra)\n",
    "            for spectra in interpolated_data\n",
    "        ],\n",
    "        axis=0,\n",
    "    )\n",
    "\n",
    "    labels = np.concatenate([ds[1] for ds in datasets])\n",
    "    return normed_spectra, labels\n",
    "\n",
    "ds_names = [\"anton_532.csv\", \"anton_785.csv\", \"kaiser.csv\", \"mettler_toledo.csv\", \"metrohm.csv\", \"tornado.csv\", \"tec5.csv\", \"timegate.csv\"]\n",
    "#ds_names = [\"kaiser.csv\"]\n",
    "inputs, targets = load_datasets(ds_names)"
   ]
  },
  {
   "cell_type": "code",
   "execution_count": null,
   "id": "69d6326b",
   "metadata": {},
   "outputs": [],
   "source": [
    "\n",
    "import numpy as np\n",
    "import pandas as pd\n",
    "\n",
    "\n",
    "def load_transfer_data():\n",
    "    csv_path = os.path.join(path, files[5])\n",
    "    df = pd.read_csv(csv_path)\n",
    "\n",
    "    input_cols = df.columns[1:2049]\n",
    "    target_cols = df.columns[2050:]\n",
    "\n",
    "    targets  = df[target_cols].dropna().to_numpy()\n",
    "\n",
    "    df = df[input_cols]\n",
    "    df['Unnamed: 1'] = df['Unnamed: 1'].str.replace(\"[\\[\\]]\", \"\", regex=True).astype('int64')\n",
    "    df['Unnamed: 2048'] = df['Unnamed: 2048'].str.replace(\"[\\[\\]]\", \"\", regex=True).astype('int64')\n",
    "\n",
    "    inputs = df.to_numpy().reshape(-1, 2, 2048)\n",
    "    inputs = inputs.mean(axis=1)\n",
    "    \n",
    "    return inputs, targets\n",
    "\n",
    "\n",
    "def preprocess_transfer_data():\n",
    "    inputs, targets = load_transfer_data()\n",
    "    \n",
    "    spectra_selection = np.logical_and(\n",
    "        300 <= np.array([float(one) for one in range(2048)]),\n",
    "        np.array([float(one) for one in range(2048)]) <= 1942,\n",
    "    )\n",
    "    \n",
    "    inputs = inputs[:, spectra_selection]\n",
    "    \n",
    "    wns = np.array([\n",
    "        float(one) for one in range(2048)\n",
    "    ])[spectra_selection]\n",
    "    wavenumbers = np.arange(300, 1943)\n",
    "    \n",
    "    interpolated_data = np.array(\n",
    "        [np.interp(wavenumbers, xp=wns, fp=i) for i in inputs]\n",
    "    )\n",
    "    \n",
    "    normed_spectra = interpolated_data / np.max(interpolated_data)\n",
    "    return normed_spectra, targets"
   ]
  },
  {
   "cell_type": "code",
   "execution_count": 178,
   "id": "08fcfe60",
   "metadata": {},
   "outputs": [
    {
     "data": {
      "text/plain": [
       "((2261, 1643), (2261, 3))"
      ]
     },
     "execution_count": 178,
     "metadata": {},
     "output_type": "execute_result"
    }
   ],
   "source": [
    "inputs.shape, targets.shape"
   ]
  },
  {
   "cell_type": "code",
   "execution_count": 187,
   "id": "248e7dd5",
   "metadata": {},
   "outputs": [
    {
     "name": "stdout",
     "output_type": "stream",
     "text": [
      "(1643,)\n"
     ]
    },
    {
     "data": {
      "text/plain": [
       "((96, 1643), (96, 3))"
      ]
     },
     "execution_count": 187,
     "metadata": {},
     "output_type": "execute_result"
    }
   ],
   "source": [
    "i, t = preprocess_transfer_data()\n",
    "i.shape, t.shape"
   ]
  },
  {
   "cell_type": "code",
   "execution_count": 181,
   "id": "1f145263",
   "metadata": {},
   "outputs": [
    {
     "data": {
      "text/plain": [
       "0.18991220805035613"
      ]
     },
     "execution_count": 181,
     "metadata": {},
     "output_type": "execute_result"
    }
   ],
   "source": [
    "i.min()"
   ]
  },
  {
   "cell_type": "code",
   "execution_count": null,
   "id": "04086c7d",
   "metadata": {},
   "outputs": [],
   "source": []
  }
 ],
 "metadata": {
  "kernelspec": {
   "display_name": "Python 3 (ipykernel)",
   "language": "python",
   "name": "python3"
  },
  "language_info": {
   "codemirror_mode": {
    "name": "ipython",
    "version": 3
   },
   "file_extension": ".py",
   "mimetype": "text/x-python",
   "name": "python",
   "nbconvert_exporter": "python",
   "pygments_lexer": "ipython3",
   "version": "3.11.13"
  }
 },
 "nbformat": 4,
 "nbformat_minor": 5
}
