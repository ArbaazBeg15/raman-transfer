{
 "cells": [
  {
   "cell_type": "code",
   "execution_count": null,
   "id": "79ed08e6",
   "metadata": {},
   "outputs": [],
   "source": [
    "def return_stats(tensor, p=True, r=False):\n",
    "    mean, std = tensor.mean(), tensor.std()\n",
    "    min, max =  tensor.min(), tensor.max()\n",
    "\n",
    "    if p:\n",
    "        print(f\"Min: {min}, Max: {max}, Mean: {mean}, Std: {std}\")\n",
    "    \n",
    "    if r:  \n",
    "        return min, max, mean, std"
   ]
  },
  {
   "cell_type": "code",
   "execution_count": null,
   "id": "6610f4c6",
   "metadata": {},
   "outputs": [],
   "source": [
    "import os\n",
    "\n",
    "path = \"/kaggle/input/dig-4-bio-raman-transfer-learning-challenge\"\n",
    "files = os.listdir(path)\n",
    "[(i, files[i]) for i in range(len(files))]"
   ]
  },
  {
   "cell_type": "code",
   "execution_count": null,
   "id": "96373161",
   "metadata": {},
   "outputs": [],
   "source": [
    "import pandas as pd\n",
    "\n",
    "df = pd.read_csv(os.path.join(path, files[5]))\n",
    "cols = df.columns[1:-4]\n",
    "df = df[cols]\n",
    "df['Unnamed: 1'] = df['Unnamed: 1'].str.replace('[\\[\\]]', '', regex=True).astype('int64')\n",
    "df['Unnamed: 2048'] = df['Unnamed: 2048'].str.replace('[\\[\\]]', '', regex=True).astype('int64')"
   ]
  },
  {
   "cell_type": "code",
   "execution_count": null,
   "id": "a1fa8124",
   "metadata": {},
   "outputs": [],
   "source": [
    "df = df.to_numpy()\n",
    "df = df[0::2] / df[1::2]\n",
    "df.shape"
   ]
  },
  {
   "cell_type": "code",
   "execution_count": null,
   "id": "875b5dbd",
   "metadata": {},
   "outputs": [],
   "source": [
    "test = pd.read_csv(os.path.join(path, files[6]))\n",
    "\n",
    "row1 = test.columns[1:].to_numpy().copy()\n",
    "row1[-1] = \"5611\"\n",
    "row1 = row1.astype(np.float64)\n",
    "\n",
    "\n",
    "cols = test.columns[1:]\n",
    "test = test[cols]\n",
    "test[\" 5611]\"] = test[\" 5611]\"].str.replace('[\\[\\]]', '', regex=True).astype('int64')\n",
    "test = test.to_numpy()\n",
    "\n",
    "test = np.insert(test, 0, row1, axis=0)\n",
    "#test = test.reshape(-1, 2, 2048).reshape(96, 4096)\n",
    "test = test[0::2] / test[1::2]\n",
    "test = test.astype(np.float32)\n",
    "test.shape, test.dtype"
   ]
  },
  {
   "cell_type": "code",
   "execution_count": null,
   "id": "a6cca580",
   "metadata": {},
   "outputs": [],
   "source": [
    "return_stats(df, True)"
   ]
  },
  {
   "cell_type": "code",
   "execution_count": null,
   "id": "4af41ffd",
   "metadata": {},
   "outputs": [],
   "source": [
    "return_stats(test, True)"
   ]
  },
  {
   "cell_type": "code",
   "execution_count": null,
   "id": "ee168e14",
   "metadata": {},
   "outputs": [],
   "source": [
    "import numpy as np\n",
    "import matplotlib.pyplot as plt\n",
    "\n",
    "def plot_random_signal(train_array, test_array, seed=None):\n",
    "    \"\"\"\n",
    "    Randomly select one signal from train and one from test,\n",
    "    and plot them in separate figures.\n",
    "    \"\"\"\n",
    "    if seed is not None:\n",
    "        np.random.seed(seed)\n",
    "\n",
    "    # Randomly select one index from train and one from test\n",
    "    train_idx = np.random.randint(0, train_array.shape[0])\n",
    "    test_idx = np.random.randint(0, test_array.shape[0])\n",
    "\n",
    "    # Extract the signals\n",
    "    train_signal = train_array[train_idx]\n",
    "    test_signal = test_array[test_idx]\n",
    "\n",
    "    # Plot train signal\n",
    "    plt.figure(figsize=(20, 4))\n",
    "    plt.plot(train_signal, color='blue')\n",
    "    plt.title(f\"Random Train Signal (index={train_idx})\")\n",
    "    plt.xlabel(\"Time/Index\")\n",
    "    plt.ylabel(\"Value\")\n",
    "    plt.show()\n",
    "\n",
    "    # Plot test signal\n",
    "    plt.figure(figsize=(20, 4))\n",
    "    plt.plot(test_signal, color='orange')\n",
    "    plt.title(f\"Random Test Signal (index={test_idx})\")\n",
    "    plt.xlabel(\"Time/Index\")\n",
    "    plt.ylabel(\"Value\")\n",
    "    plt.show()\n",
    "\n",
    "# Example usage:\n",
    "plot_random_signal(df, test)\n"
   ]
  },
  {
   "cell_type": "code",
   "execution_count": null,
   "id": "3581924f",
   "metadata": {},
   "outputs": [],
   "source": [
    "targets = pd.read_csv(os.path.join(path, files[5]))\n",
    "cols = targets.columns[-3:]\n",
    "targets = targets[cols].dropna().to_numpy()\n",
    "targets.shape"
   ]
  },
  {
   "cell_type": "code",
   "execution_count": null,
   "id": "9eee116a",
   "metadata": {},
   "outputs": [],
   "source": [
    "[return_stats(targets[:, i]) for i in range(3)]"
   ]
  },
  {
   "cell_type": "code",
   "execution_count": null,
   "id": "22772016",
   "metadata": {},
   "outputs": [],
   "source": []
  },
  {
   "cell_type": "code",
   "execution_count": null,
   "id": "a3b2fb71",
   "metadata": {},
   "outputs": [],
   "source": [
    "import numpy as np\n",
    "import matplotlib.pyplot as plt\n",
    "\n",
    "def plot_random_sample(train_array, eval_array, dataset='train', seed=None):\n",
    "    \"\"\"\n",
    "    Plot both channels of a randomly selected sample from train or eval set.\n",
    "    Each channel is shown row-wise (one above the other).\n",
    "\n",
    "    Parameters:\n",
    "    - train_array: numpy array of shape (N_train, 2, 2048)\n",
    "    - eval_array: numpy array of shape (N_eval, 2, 2048)\n",
    "    - dataset: 'train' or 'eval' to choose which set to sample from\n",
    "    - seed: optional integer for reproducibility\n",
    "    \"\"\"\n",
    "    if seed is not None:\n",
    "        np.random.seed(seed)\n",
    "\n",
    "    # Choose dataset\n",
    "    if dataset == 'train':\n",
    "        data = train_array\n",
    "    elif dataset == 'eval':\n",
    "        data = eval_array\n",
    "    else:\n",
    "        raise ValueError(\"dataset must be 'train' or 'eval'\")\n",
    "\n",
    "    # Pick a random sample index\n",
    "    idx = np.random.randint(0, data.shape[0])\n",
    "\n",
    "    # Extract the two channels (shape: (2, 2048))\n",
    "    sample = data[idx]\n",
    "\n",
    "    # Create a time axis (just sample indices here)\n",
    "    time_axis = np.arange(sample.shape[1])\n",
    "\n",
    "    # Create figure with two rows for two channels\n",
    "    fig, axs = plt.subplots(2, 1, figsize=(20, 10), sharex=True)\n",
    "\n",
    "    # Plot channel 1\n",
    "    axs[0].plot(time_axis, sample[0], color='b')\n",
    "    axs[0].set_title(f\"Channel 1 - Sample #{idx} ({dataset} set)\")\n",
    "    axs[0].set_ylabel(\"Amplitude\")\n",
    "\n",
    "    # Plot channel 2\n",
    "    axs[1].plot(time_axis, sample[1], color='g')\n",
    "    axs[1].set_title(f\"Channel 2 - Sample #{idx} ({dataset} set)\")\n",
    "    axs[1].set_xlabel(\"Sample index\")\n",
    "    axs[1].set_ylabel(\"Amplitude\")\n",
    "\n",
    "    plt.tight_layout()\n",
    "    plt.show()\n",
    "\n",
    "plot_random_sample(df, test)\n",
    "plot_random_sample(df, test, \"eval\")"
   ]
  },
  {
   "cell_type": "code",
   "execution_count": null,
   "id": "f86d83dc",
   "metadata": {},
   "outputs": [],
   "source": [
    "import random\n",
    "index = random.randint(0, 95)\n",
    "\n",
    "print((df[index][0] == df[index][1]).sum())\n",
    "return_stats(df[index][0])\n",
    "return_stats(df[index][1])\n",
    "print(np.allclose(df[index][0], df[index][1]))"
   ]
  },
  {
   "cell_type": "code",
   "execution_count": null,
   "id": "61ef01bc",
   "metadata": {},
   "outputs": [],
   "source": []
  }
 ],
 "metadata": {
  "kernelspec": {
   "display_name": "Python 3 (ipykernel)",
   "language": "python",
   "name": "python3"
  },
  "language_info": {
   "codemirror_mode": {
    "name": "ipython",
    "version": 3
   },
   "file_extension": ".py",
   "mimetype": "text/x-python",
   "name": "python",
   "nbconvert_exporter": "python",
   "pygments_lexer": "ipython3",
   "version": "3.11.13"
  }
 },
 "nbformat": 4,
 "nbformat_minor": 5
}
